{
  "nbformat": 4,
  "nbformat_minor": 0,
  "metadata": {
    "colab": {
      "provenance": [],
      "toc_visible": true,
      "gpuType": "T4",
      "include_colab_link": true
    },
    "kernelspec": {
      "name": "python3",
      "display_name": "Python 3"
    },
    "language_info": {
      "name": "python"
    },
    "accelerator": "GPU",
    "widgets": {
      "application/vnd.jupyter.widget-state+json": {
        "ff87ca522e1e4ae593b28ab708992eb9": {
          "model_module": "@jupyter-widgets/controls",
          "model_name": "HBoxModel",
          "model_module_version": "1.5.0",
          "state": {
            "_dom_classes": [],
            "_model_module": "@jupyter-widgets/controls",
            "_model_module_version": "1.5.0",
            "_model_name": "HBoxModel",
            "_view_count": null,
            "_view_module": "@jupyter-widgets/controls",
            "_view_module_version": "1.5.0",
            "_view_name": "HBoxView",
            "box_style": "",
            "children": [
              "IPY_MODEL_a3f89a8877844f5eb37904e779eeff8b",
              "IPY_MODEL_271e84cc69bb42c6bff65fd72a0f5b17",
              "IPY_MODEL_b804f15edb1842af916453af1c98028d"
            ],
            "layout": "IPY_MODEL_b938cbc200334405b3f8f68973d86e4e"
          }
        },
        "a3f89a8877844f5eb37904e779eeff8b": {
          "model_module": "@jupyter-widgets/controls",
          "model_name": "HTMLModel",
          "model_module_version": "1.5.0",
          "state": {
            "_dom_classes": [],
            "_model_module": "@jupyter-widgets/controls",
            "_model_module_version": "1.5.0",
            "_model_name": "HTMLModel",
            "_view_count": null,
            "_view_module": "@jupyter-widgets/controls",
            "_view_module_version": "1.5.0",
            "_view_name": "HTMLView",
            "description": "",
            "description_tooltip": null,
            "layout": "IPY_MODEL_4fd6106b27d94208a955bb4bcfa0de1e",
            "placeholder": "​",
            "style": "IPY_MODEL_b4b0324d9f794ee0ad93eaee5c263fc4",
            "value": "model.safetensors: 100%"
          }
        },
        "271e84cc69bb42c6bff65fd72a0f5b17": {
          "model_module": "@jupyter-widgets/controls",
          "model_name": "FloatProgressModel",
          "model_module_version": "1.5.0",
          "state": {
            "_dom_classes": [],
            "_model_module": "@jupyter-widgets/controls",
            "_model_module_version": "1.5.0",
            "_model_name": "FloatProgressModel",
            "_view_count": null,
            "_view_module": "@jupyter-widgets/controls",
            "_view_module_version": "1.5.0",
            "_view_name": "ProgressView",
            "bar_style": "success",
            "description": "",
            "description_tooltip": null,
            "layout": "IPY_MODEL_27b98d8cc48d424faeee6f8f13291dda",
            "max": 21355344,
            "min": 0,
            "orientation": "horizontal",
            "style": "IPY_MODEL_dcc148fbe22a4d90a7b6dd2274196513",
            "value": 21355344
          }
        },
        "b804f15edb1842af916453af1c98028d": {
          "model_module": "@jupyter-widgets/controls",
          "model_name": "HTMLModel",
          "model_module_version": "1.5.0",
          "state": {
            "_dom_classes": [],
            "_model_module": "@jupyter-widgets/controls",
            "_model_module_version": "1.5.0",
            "_model_name": "HTMLModel",
            "_view_count": null,
            "_view_module": "@jupyter-widgets/controls",
            "_view_module_version": "1.5.0",
            "_view_name": "HTMLView",
            "description": "",
            "description_tooltip": null,
            "layout": "IPY_MODEL_14f2c79674bb47c08edfa982e9288c26",
            "placeholder": "​",
            "style": "IPY_MODEL_62ba557a3007445c979a956d67eef423",
            "value": " 21.4M/21.4M [00:00&lt;00:00, 44.0MB/s]"
          }
        },
        "b938cbc200334405b3f8f68973d86e4e": {
          "model_module": "@jupyter-widgets/base",
          "model_name": "LayoutModel",
          "model_module_version": "1.2.0",
          "state": {
            "_model_module": "@jupyter-widgets/base",
            "_model_module_version": "1.2.0",
            "_model_name": "LayoutModel",
            "_view_count": null,
            "_view_module": "@jupyter-widgets/base",
            "_view_module_version": "1.2.0",
            "_view_name": "LayoutView",
            "align_content": null,
            "align_items": null,
            "align_self": null,
            "border": null,
            "bottom": null,
            "display": null,
            "flex": null,
            "flex_flow": null,
            "grid_area": null,
            "grid_auto_columns": null,
            "grid_auto_flow": null,
            "grid_auto_rows": null,
            "grid_column": null,
            "grid_gap": null,
            "grid_row": null,
            "grid_template_areas": null,
            "grid_template_columns": null,
            "grid_template_rows": null,
            "height": null,
            "justify_content": null,
            "justify_items": null,
            "left": null,
            "margin": null,
            "max_height": null,
            "max_width": null,
            "min_height": null,
            "min_width": null,
            "object_fit": null,
            "object_position": null,
            "order": null,
            "overflow": null,
            "overflow_x": null,
            "overflow_y": null,
            "padding": null,
            "right": null,
            "top": null,
            "visibility": null,
            "width": null
          }
        },
        "4fd6106b27d94208a955bb4bcfa0de1e": {
          "model_module": "@jupyter-widgets/base",
          "model_name": "LayoutModel",
          "model_module_version": "1.2.0",
          "state": {
            "_model_module": "@jupyter-widgets/base",
            "_model_module_version": "1.2.0",
            "_model_name": "LayoutModel",
            "_view_count": null,
            "_view_module": "@jupyter-widgets/base",
            "_view_module_version": "1.2.0",
            "_view_name": "LayoutView",
            "align_content": null,
            "align_items": null,
            "align_self": null,
            "border": null,
            "bottom": null,
            "display": null,
            "flex": null,
            "flex_flow": null,
            "grid_area": null,
            "grid_auto_columns": null,
            "grid_auto_flow": null,
            "grid_auto_rows": null,
            "grid_column": null,
            "grid_gap": null,
            "grid_row": null,
            "grid_template_areas": null,
            "grid_template_columns": null,
            "grid_template_rows": null,
            "height": null,
            "justify_content": null,
            "justify_items": null,
            "left": null,
            "margin": null,
            "max_height": null,
            "max_width": null,
            "min_height": null,
            "min_width": null,
            "object_fit": null,
            "object_position": null,
            "order": null,
            "overflow": null,
            "overflow_x": null,
            "overflow_y": null,
            "padding": null,
            "right": null,
            "top": null,
            "visibility": null,
            "width": null
          }
        },
        "b4b0324d9f794ee0ad93eaee5c263fc4": {
          "model_module": "@jupyter-widgets/controls",
          "model_name": "DescriptionStyleModel",
          "model_module_version": "1.5.0",
          "state": {
            "_model_module": "@jupyter-widgets/controls",
            "_model_module_version": "1.5.0",
            "_model_name": "DescriptionStyleModel",
            "_view_count": null,
            "_view_module": "@jupyter-widgets/base",
            "_view_module_version": "1.2.0",
            "_view_name": "StyleView",
            "description_width": ""
          }
        },
        "27b98d8cc48d424faeee6f8f13291dda": {
          "model_module": "@jupyter-widgets/base",
          "model_name": "LayoutModel",
          "model_module_version": "1.2.0",
          "state": {
            "_model_module": "@jupyter-widgets/base",
            "_model_module_version": "1.2.0",
            "_model_name": "LayoutModel",
            "_view_count": null,
            "_view_module": "@jupyter-widgets/base",
            "_view_module_version": "1.2.0",
            "_view_name": "LayoutView",
            "align_content": null,
            "align_items": null,
            "align_self": null,
            "border": null,
            "bottom": null,
            "display": null,
            "flex": null,
            "flex_flow": null,
            "grid_area": null,
            "grid_auto_columns": null,
            "grid_auto_flow": null,
            "grid_auto_rows": null,
            "grid_column": null,
            "grid_gap": null,
            "grid_row": null,
            "grid_template_areas": null,
            "grid_template_columns": null,
            "grid_template_rows": null,
            "height": null,
            "justify_content": null,
            "justify_items": null,
            "left": null,
            "margin": null,
            "max_height": null,
            "max_width": null,
            "min_height": null,
            "min_width": null,
            "object_fit": null,
            "object_position": null,
            "order": null,
            "overflow": null,
            "overflow_x": null,
            "overflow_y": null,
            "padding": null,
            "right": null,
            "top": null,
            "visibility": null,
            "width": null
          }
        },
        "dcc148fbe22a4d90a7b6dd2274196513": {
          "model_module": "@jupyter-widgets/controls",
          "model_name": "ProgressStyleModel",
          "model_module_version": "1.5.0",
          "state": {
            "_model_module": "@jupyter-widgets/controls",
            "_model_module_version": "1.5.0",
            "_model_name": "ProgressStyleModel",
            "_view_count": null,
            "_view_module": "@jupyter-widgets/base",
            "_view_module_version": "1.2.0",
            "_view_name": "StyleView",
            "bar_color": null,
            "description_width": ""
          }
        },
        "14f2c79674bb47c08edfa982e9288c26": {
          "model_module": "@jupyter-widgets/base",
          "model_name": "LayoutModel",
          "model_module_version": "1.2.0",
          "state": {
            "_model_module": "@jupyter-widgets/base",
            "_model_module_version": "1.2.0",
            "_model_name": "LayoutModel",
            "_view_count": null,
            "_view_module": "@jupyter-widgets/base",
            "_view_module_version": "1.2.0",
            "_view_name": "LayoutView",
            "align_content": null,
            "align_items": null,
            "align_self": null,
            "border": null,
            "bottom": null,
            "display": null,
            "flex": null,
            "flex_flow": null,
            "grid_area": null,
            "grid_auto_columns": null,
            "grid_auto_flow": null,
            "grid_auto_rows": null,
            "grid_column": null,
            "grid_gap": null,
            "grid_row": null,
            "grid_template_areas": null,
            "grid_template_columns": null,
            "grid_template_rows": null,
            "height": null,
            "justify_content": null,
            "justify_items": null,
            "left": null,
            "margin": null,
            "max_height": null,
            "max_width": null,
            "min_height": null,
            "min_width": null,
            "object_fit": null,
            "object_position": null,
            "order": null,
            "overflow": null,
            "overflow_x": null,
            "overflow_y": null,
            "padding": null,
            "right": null,
            "top": null,
            "visibility": null,
            "width": null
          }
        },
        "62ba557a3007445c979a956d67eef423": {
          "model_module": "@jupyter-widgets/controls",
          "model_name": "DescriptionStyleModel",
          "model_module_version": "1.5.0",
          "state": {
            "_model_module": "@jupyter-widgets/controls",
            "_model_module_version": "1.5.0",
            "_model_name": "DescriptionStyleModel",
            "_view_count": null,
            "_view_module": "@jupyter-widgets/base",
            "_view_module_version": "1.2.0",
            "_view_name": "StyleView",
            "description_width": ""
          }
        }
      }
    }
  },
  "cells": [
    {
      "cell_type": "markdown",
      "metadata": {
        "id": "view-in-github",
        "colab_type": "text"
      },
      "source": [
        "<a href=\"https://colab.research.google.com/github/vanyanenkov/DL/blob/main/2.ipynb\" target=\"_parent\"><img src=\"https://colab.research.google.com/assets/colab-badge.svg\" alt=\"Open In Colab\"/></a>"
      ]
    },
    {
      "cell_type": "code",
      "execution_count": null,
      "metadata": {
        "id": "qpRz9wlCggBn"
      },
      "outputs": [],
      "source": [
        "\n",
        "import os\n",
        "import time\n",
        "from collections import defaultdict\n",
        "import random\n",
        "import numpy as np\n",
        "import matplotlib.pyplot as plt\n",
        "from tqdm import tqdm\n",
        "\n",
        "import torch\n",
        "import torch.nn as nn\n",
        "import torch.optim as optim\n",
        "from torch.utils.data import DataLoader\n",
        "from torchvision import transforms, datasets\n",
        "import timm\n",
        "from sklearn.metrics import accuracy_score, precision_recall_fscore_support, confusion_matrix, roc_auc_score"
      ]
    },
    {
      "cell_type": "code",
      "source": [
        "DATA_DIR = '/content/datasets'\n",
        "BATCH_SIZE = 128\n",
        "IMG_SIZE = 128\n",
        "MODEL_NAME = 'efficientnet_b0'\n",
        "NUM_EPOCHS = 25\n",
        "LR_HEAD = 1e-3\n",
        "LR_BACKBONE = 1e-5\n",
        "WEIGHT_DECAY = 1e-4\n",
        "NUM_WORKERS = 2\n",
        "DEVICE = 'cuda' if torch.cuda.is_available() else 'cpu'\n",
        "HEAD_EPOCHS = 5\n",
        "VAL_EVERY = 1\n",
        "VAL_SUBSET = None\n",
        "USE_MIXUP = True\n",
        "MIXUP_ALPHA = 0.8\n",
        "SAVE_PATH = 'best_model.pth'\n",
        "SEED = 50\n",
        "\n",
        "print('Device:', DEVICE)"
      ],
      "metadata": {
        "id": "2U3fJbA3hFgs",
        "colab": {
          "base_uri": "https://localhost:8080/"
        },
        "outputId": "dadb6618-dac2-4e07-b89b-94ed09f86d97"
      },
      "execution_count": null,
      "outputs": [
        {
          "output_type": "stream",
          "name": "stdout",
          "text": [
            "Device: cuda\n"
          ]
        }
      ]
    },
    {
      "cell_type": "code",
      "source": [
        "def set_seed(seed=50):\n",
        "    random.seed(seed)\n",
        "    np.random.seed(seed)\n",
        "    torch.manual_seed(seed)\n",
        "    if torch.cuda.is_available():\n",
        "        torch.cuda.manual_seed_all(seed)\n",
        "\n",
        "set_seed(SEED)\n",
        "torch.backends.cudnn.benchmark = True\n",
        "\n",
        "train_transform = transforms.Compose([\n",
        "    transforms.RandomResizedCrop(IMG_SIZE, scale=(0.7, 1.0)),\n",
        "    transforms.RandomHorizontalFlip(),\n",
        "    transforms.ColorJitter(brightness=0.2, contrast=0.2, saturation=0.2, hue=0.02),\n",
        "    transforms.RandomRotation(10),\n",
        "    transforms.ToTensor(),\n",
        "    transforms.Normalize(mean=[0.485, 0.456, 0.406], std=[0.229, 0.224, 0.225]),\n",
        "])\n",
        "\n",
        "val_transform = transforms.Compose([\n",
        "    transforms.Resize(int(IMG_SIZE * 1.14)),\n",
        "    transforms.CenterCrop(IMG_SIZE),\n",
        "    transforms.ToTensor(),\n",
        "    transforms.Normalize(mean=[0.485, 0.456, 0.406], std=[0.229, 0.224, 0.225]),\n",
        "])"
      ],
      "metadata": {
        "id": "FSF7KPjBhIWO"
      },
      "execution_count": null,
      "outputs": []
    },
    {
      "cell_type": "code",
      "source": [
        "train_ds = datasets.CIFAR10(root=DATA_DIR, train=True, download=True, transform=train_transform)\n",
        "val_ds = datasets.CIFAR10(root=DATA_DIR, train=False, download=True, transform=val_transform)\n",
        "\n",
        "train_loader = DataLoader(train_ds, batch_size=BATCH_SIZE, shuffle=True,\n",
        "                          num_workers=NUM_WORKERS, pin_memory=True, persistent_workers=True)\n",
        "val_loader = DataLoader(val_ds, batch_size=BATCH_SIZE, shuffle=False,\n",
        "                        num_workers=NUM_WORKERS, pin_memory=True, persistent_workers=True)\n",
        "\n",
        "num_classes = 10\n",
        "print('Num classes:', num_classes)\n",
        "print('Train samples:', len(train_ds), 'Val samples:', len(val_ds))"
      ],
      "metadata": {
        "id": "Grkk4oUxhL-C",
        "colab": {
          "base_uri": "https://localhost:8080/"
        },
        "outputId": "b5ac6757-a389-4612-dce1-56ec41cdac23"
      },
      "execution_count": null,
      "outputs": [
        {
          "output_type": "stream",
          "name": "stderr",
          "text": [
            "100%|██████████| 170M/170M [00:03<00:00, 48.7MB/s]\n"
          ]
        },
        {
          "output_type": "stream",
          "name": "stdout",
          "text": [
            "Num classes: 10\n",
            "Train samples: 50000 Val samples: 10000\n"
          ]
        }
      ]
    },
    {
      "cell_type": "code",
      "source": [
        "model = timm.create_model(MODEL_NAME, pretrained=True)\n",
        "model.reset_classifier(num_classes=num_classes)\n",
        "model.to(DEVICE)"
      ],
      "metadata": {
        "id": "Di13Hn0UhOrS",
        "colab": {
          "base_uri": "https://localhost:8080/",
          "height": 1000,
          "referenced_widgets": [
            "ff87ca522e1e4ae593b28ab708992eb9",
            "a3f89a8877844f5eb37904e779eeff8b",
            "271e84cc69bb42c6bff65fd72a0f5b17",
            "b804f15edb1842af916453af1c98028d",
            "b938cbc200334405b3f8f68973d86e4e",
            "4fd6106b27d94208a955bb4bcfa0de1e",
            "b4b0324d9f794ee0ad93eaee5c263fc4",
            "27b98d8cc48d424faeee6f8f13291dda",
            "dcc148fbe22a4d90a7b6dd2274196513",
            "14f2c79674bb47c08edfa982e9288c26",
            "62ba557a3007445c979a956d67eef423"
          ]
        },
        "outputId": "6542abf2-8d29-435a-c729-024eaddb2d9f"
      },
      "execution_count": null,
      "outputs": [
        {
          "output_type": "stream",
          "name": "stderr",
          "text": [
            "/usr/local/lib/python3.12/dist-packages/huggingface_hub/utils/_auth.py:94: UserWarning: \n",
            "The secret `HF_TOKEN` does not exist in your Colab secrets.\n",
            "To authenticate with the Hugging Face Hub, create a token in your settings tab (https://huggingface.co/settings/tokens), set it as secret in your Google Colab and restart your session.\n",
            "You will be able to reuse this secret in all of your notebooks.\n",
            "Please note that authentication is recommended but still optional to access public models or datasets.\n",
            "  warnings.warn(\n"
          ]
        },
        {
          "output_type": "display_data",
          "data": {
            "text/plain": [
              "model.safetensors:   0%|          | 0.00/21.4M [00:00<?, ?B/s]"
            ],
            "application/vnd.jupyter.widget-view+json": {
              "version_major": 2,
              "version_minor": 0,
              "model_id": "ff87ca522e1e4ae593b28ab708992eb9"
            }
          },
          "metadata": {}
        },
        {
          "output_type": "execute_result",
          "data": {
            "text/plain": [
              "EfficientNet(\n",
              "  (conv_stem): Conv2d(3, 32, kernel_size=(3, 3), stride=(2, 2), padding=(1, 1), bias=False)\n",
              "  (bn1): BatchNormAct2d(\n",
              "    32, eps=1e-05, momentum=0.1, affine=True, track_running_stats=True\n",
              "    (drop): Identity()\n",
              "    (act): SiLU(inplace=True)\n",
              "  )\n",
              "  (blocks): Sequential(\n",
              "    (0): Sequential(\n",
              "      (0): DepthwiseSeparableConv(\n",
              "        (conv_dw): Conv2d(32, 32, kernel_size=(3, 3), stride=(1, 1), padding=(1, 1), groups=32, bias=False)\n",
              "        (bn1): BatchNormAct2d(\n",
              "          32, eps=1e-05, momentum=0.1, affine=True, track_running_stats=True\n",
              "          (drop): Identity()\n",
              "          (act): SiLU(inplace=True)\n",
              "        )\n",
              "        (aa): Identity()\n",
              "        (se): SqueezeExcite(\n",
              "          (conv_reduce): Conv2d(32, 8, kernel_size=(1, 1), stride=(1, 1))\n",
              "          (act1): SiLU(inplace=True)\n",
              "          (conv_expand): Conv2d(8, 32, kernel_size=(1, 1), stride=(1, 1))\n",
              "          (gate): Sigmoid()\n",
              "        )\n",
              "        (conv_pw): Conv2d(32, 16, kernel_size=(1, 1), stride=(1, 1), bias=False)\n",
              "        (bn2): BatchNormAct2d(\n",
              "          16, eps=1e-05, momentum=0.1, affine=True, track_running_stats=True\n",
              "          (drop): Identity()\n",
              "          (act): Identity()\n",
              "        )\n",
              "        (drop_path): Identity()\n",
              "      )\n",
              "    )\n",
              "    (1): Sequential(\n",
              "      (0): InvertedResidual(\n",
              "        (conv_pw): Conv2d(16, 96, kernel_size=(1, 1), stride=(1, 1), bias=False)\n",
              "        (bn1): BatchNormAct2d(\n",
              "          96, eps=1e-05, momentum=0.1, affine=True, track_running_stats=True\n",
              "          (drop): Identity()\n",
              "          (act): SiLU(inplace=True)\n",
              "        )\n",
              "        (conv_dw): Conv2d(96, 96, kernel_size=(3, 3), stride=(2, 2), padding=(1, 1), groups=96, bias=False)\n",
              "        (bn2): BatchNormAct2d(\n",
              "          96, eps=1e-05, momentum=0.1, affine=True, track_running_stats=True\n",
              "          (drop): Identity()\n",
              "          (act): SiLU(inplace=True)\n",
              "        )\n",
              "        (aa): Identity()\n",
              "        (se): SqueezeExcite(\n",
              "          (conv_reduce): Conv2d(96, 4, kernel_size=(1, 1), stride=(1, 1))\n",
              "          (act1): SiLU(inplace=True)\n",
              "          (conv_expand): Conv2d(4, 96, kernel_size=(1, 1), stride=(1, 1))\n",
              "          (gate): Sigmoid()\n",
              "        )\n",
              "        (conv_pwl): Conv2d(96, 24, kernel_size=(1, 1), stride=(1, 1), bias=False)\n",
              "        (bn3): BatchNormAct2d(\n",
              "          24, eps=1e-05, momentum=0.1, affine=True, track_running_stats=True\n",
              "          (drop): Identity()\n",
              "          (act): Identity()\n",
              "        )\n",
              "        (drop_path): Identity()\n",
              "      )\n",
              "      (1): InvertedResidual(\n",
              "        (conv_pw): Conv2d(24, 144, kernel_size=(1, 1), stride=(1, 1), bias=False)\n",
              "        (bn1): BatchNormAct2d(\n",
              "          144, eps=1e-05, momentum=0.1, affine=True, track_running_stats=True\n",
              "          (drop): Identity()\n",
              "          (act): SiLU(inplace=True)\n",
              "        )\n",
              "        (conv_dw): Conv2d(144, 144, kernel_size=(3, 3), stride=(1, 1), padding=(1, 1), groups=144, bias=False)\n",
              "        (bn2): BatchNormAct2d(\n",
              "          144, eps=1e-05, momentum=0.1, affine=True, track_running_stats=True\n",
              "          (drop): Identity()\n",
              "          (act): SiLU(inplace=True)\n",
              "        )\n",
              "        (aa): Identity()\n",
              "        (se): SqueezeExcite(\n",
              "          (conv_reduce): Conv2d(144, 6, kernel_size=(1, 1), stride=(1, 1))\n",
              "          (act1): SiLU(inplace=True)\n",
              "          (conv_expand): Conv2d(6, 144, kernel_size=(1, 1), stride=(1, 1))\n",
              "          (gate): Sigmoid()\n",
              "        )\n",
              "        (conv_pwl): Conv2d(144, 24, kernel_size=(1, 1), stride=(1, 1), bias=False)\n",
              "        (bn3): BatchNormAct2d(\n",
              "          24, eps=1e-05, momentum=0.1, affine=True, track_running_stats=True\n",
              "          (drop): Identity()\n",
              "          (act): Identity()\n",
              "        )\n",
              "        (drop_path): Identity()\n",
              "      )\n",
              "    )\n",
              "    (2): Sequential(\n",
              "      (0): InvertedResidual(\n",
              "        (conv_pw): Conv2d(24, 144, kernel_size=(1, 1), stride=(1, 1), bias=False)\n",
              "        (bn1): BatchNormAct2d(\n",
              "          144, eps=1e-05, momentum=0.1, affine=True, track_running_stats=True\n",
              "          (drop): Identity()\n",
              "          (act): SiLU(inplace=True)\n",
              "        )\n",
              "        (conv_dw): Conv2d(144, 144, kernel_size=(5, 5), stride=(2, 2), padding=(2, 2), groups=144, bias=False)\n",
              "        (bn2): BatchNormAct2d(\n",
              "          144, eps=1e-05, momentum=0.1, affine=True, track_running_stats=True\n",
              "          (drop): Identity()\n",
              "          (act): SiLU(inplace=True)\n",
              "        )\n",
              "        (aa): Identity()\n",
              "        (se): SqueezeExcite(\n",
              "          (conv_reduce): Conv2d(144, 6, kernel_size=(1, 1), stride=(1, 1))\n",
              "          (act1): SiLU(inplace=True)\n",
              "          (conv_expand): Conv2d(6, 144, kernel_size=(1, 1), stride=(1, 1))\n",
              "          (gate): Sigmoid()\n",
              "        )\n",
              "        (conv_pwl): Conv2d(144, 40, kernel_size=(1, 1), stride=(1, 1), bias=False)\n",
              "        (bn3): BatchNormAct2d(\n",
              "          40, eps=1e-05, momentum=0.1, affine=True, track_running_stats=True\n",
              "          (drop): Identity()\n",
              "          (act): Identity()\n",
              "        )\n",
              "        (drop_path): Identity()\n",
              "      )\n",
              "      (1): InvertedResidual(\n",
              "        (conv_pw): Conv2d(40, 240, kernel_size=(1, 1), stride=(1, 1), bias=False)\n",
              "        (bn1): BatchNormAct2d(\n",
              "          240, eps=1e-05, momentum=0.1, affine=True, track_running_stats=True\n",
              "          (drop): Identity()\n",
              "          (act): SiLU(inplace=True)\n",
              "        )\n",
              "        (conv_dw): Conv2d(240, 240, kernel_size=(5, 5), stride=(1, 1), padding=(2, 2), groups=240, bias=False)\n",
              "        (bn2): BatchNormAct2d(\n",
              "          240, eps=1e-05, momentum=0.1, affine=True, track_running_stats=True\n",
              "          (drop): Identity()\n",
              "          (act): SiLU(inplace=True)\n",
              "        )\n",
              "        (aa): Identity()\n",
              "        (se): SqueezeExcite(\n",
              "          (conv_reduce): Conv2d(240, 10, kernel_size=(1, 1), stride=(1, 1))\n",
              "          (act1): SiLU(inplace=True)\n",
              "          (conv_expand): Conv2d(10, 240, kernel_size=(1, 1), stride=(1, 1))\n",
              "          (gate): Sigmoid()\n",
              "        )\n",
              "        (conv_pwl): Conv2d(240, 40, kernel_size=(1, 1), stride=(1, 1), bias=False)\n",
              "        (bn3): BatchNormAct2d(\n",
              "          40, eps=1e-05, momentum=0.1, affine=True, track_running_stats=True\n",
              "          (drop): Identity()\n",
              "          (act): Identity()\n",
              "        )\n",
              "        (drop_path): Identity()\n",
              "      )\n",
              "    )\n",
              "    (3): Sequential(\n",
              "      (0): InvertedResidual(\n",
              "        (conv_pw): Conv2d(40, 240, kernel_size=(1, 1), stride=(1, 1), bias=False)\n",
              "        (bn1): BatchNormAct2d(\n",
              "          240, eps=1e-05, momentum=0.1, affine=True, track_running_stats=True\n",
              "          (drop): Identity()\n",
              "          (act): SiLU(inplace=True)\n",
              "        )\n",
              "        (conv_dw): Conv2d(240, 240, kernel_size=(3, 3), stride=(2, 2), padding=(1, 1), groups=240, bias=False)\n",
              "        (bn2): BatchNormAct2d(\n",
              "          240, eps=1e-05, momentum=0.1, affine=True, track_running_stats=True\n",
              "          (drop): Identity()\n",
              "          (act): SiLU(inplace=True)\n",
              "        )\n",
              "        (aa): Identity()\n",
              "        (se): SqueezeExcite(\n",
              "          (conv_reduce): Conv2d(240, 10, kernel_size=(1, 1), stride=(1, 1))\n",
              "          (act1): SiLU(inplace=True)\n",
              "          (conv_expand): Conv2d(10, 240, kernel_size=(1, 1), stride=(1, 1))\n",
              "          (gate): Sigmoid()\n",
              "        )\n",
              "        (conv_pwl): Conv2d(240, 80, kernel_size=(1, 1), stride=(1, 1), bias=False)\n",
              "        (bn3): BatchNormAct2d(\n",
              "          80, eps=1e-05, momentum=0.1, affine=True, track_running_stats=True\n",
              "          (drop): Identity()\n",
              "          (act): Identity()\n",
              "        )\n",
              "        (drop_path): Identity()\n",
              "      )\n",
              "      (1): InvertedResidual(\n",
              "        (conv_pw): Conv2d(80, 480, kernel_size=(1, 1), stride=(1, 1), bias=False)\n",
              "        (bn1): BatchNormAct2d(\n",
              "          480, eps=1e-05, momentum=0.1, affine=True, track_running_stats=True\n",
              "          (drop): Identity()\n",
              "          (act): SiLU(inplace=True)\n",
              "        )\n",
              "        (conv_dw): Conv2d(480, 480, kernel_size=(3, 3), stride=(1, 1), padding=(1, 1), groups=480, bias=False)\n",
              "        (bn2): BatchNormAct2d(\n",
              "          480, eps=1e-05, momentum=0.1, affine=True, track_running_stats=True\n",
              "          (drop): Identity()\n",
              "          (act): SiLU(inplace=True)\n",
              "        )\n",
              "        (aa): Identity()\n",
              "        (se): SqueezeExcite(\n",
              "          (conv_reduce): Conv2d(480, 20, kernel_size=(1, 1), stride=(1, 1))\n",
              "          (act1): SiLU(inplace=True)\n",
              "          (conv_expand): Conv2d(20, 480, kernel_size=(1, 1), stride=(1, 1))\n",
              "          (gate): Sigmoid()\n",
              "        )\n",
              "        (conv_pwl): Conv2d(480, 80, kernel_size=(1, 1), stride=(1, 1), bias=False)\n",
              "        (bn3): BatchNormAct2d(\n",
              "          80, eps=1e-05, momentum=0.1, affine=True, track_running_stats=True\n",
              "          (drop): Identity()\n",
              "          (act): Identity()\n",
              "        )\n",
              "        (drop_path): Identity()\n",
              "      )\n",
              "      (2): InvertedResidual(\n",
              "        (conv_pw): Conv2d(80, 480, kernel_size=(1, 1), stride=(1, 1), bias=False)\n",
              "        (bn1): BatchNormAct2d(\n",
              "          480, eps=1e-05, momentum=0.1, affine=True, track_running_stats=True\n",
              "          (drop): Identity()\n",
              "          (act): SiLU(inplace=True)\n",
              "        )\n",
              "        (conv_dw): Conv2d(480, 480, kernel_size=(3, 3), stride=(1, 1), padding=(1, 1), groups=480, bias=False)\n",
              "        (bn2): BatchNormAct2d(\n",
              "          480, eps=1e-05, momentum=0.1, affine=True, track_running_stats=True\n",
              "          (drop): Identity()\n",
              "          (act): SiLU(inplace=True)\n",
              "        )\n",
              "        (aa): Identity()\n",
              "        (se): SqueezeExcite(\n",
              "          (conv_reduce): Conv2d(480, 20, kernel_size=(1, 1), stride=(1, 1))\n",
              "          (act1): SiLU(inplace=True)\n",
              "          (conv_expand): Conv2d(20, 480, kernel_size=(1, 1), stride=(1, 1))\n",
              "          (gate): Sigmoid()\n",
              "        )\n",
              "        (conv_pwl): Conv2d(480, 80, kernel_size=(1, 1), stride=(1, 1), bias=False)\n",
              "        (bn3): BatchNormAct2d(\n",
              "          80, eps=1e-05, momentum=0.1, affine=True, track_running_stats=True\n",
              "          (drop): Identity()\n",
              "          (act): Identity()\n",
              "        )\n",
              "        (drop_path): Identity()\n",
              "      )\n",
              "    )\n",
              "    (4): Sequential(\n",
              "      (0): InvertedResidual(\n",
              "        (conv_pw): Conv2d(80, 480, kernel_size=(1, 1), stride=(1, 1), bias=False)\n",
              "        (bn1): BatchNormAct2d(\n",
              "          480, eps=1e-05, momentum=0.1, affine=True, track_running_stats=True\n",
              "          (drop): Identity()\n",
              "          (act): SiLU(inplace=True)\n",
              "        )\n",
              "        (conv_dw): Conv2d(480, 480, kernel_size=(5, 5), stride=(1, 1), padding=(2, 2), groups=480, bias=False)\n",
              "        (bn2): BatchNormAct2d(\n",
              "          480, eps=1e-05, momentum=0.1, affine=True, track_running_stats=True\n",
              "          (drop): Identity()\n",
              "          (act): SiLU(inplace=True)\n",
              "        )\n",
              "        (aa): Identity()\n",
              "        (se): SqueezeExcite(\n",
              "          (conv_reduce): Conv2d(480, 20, kernel_size=(1, 1), stride=(1, 1))\n",
              "          (act1): SiLU(inplace=True)\n",
              "          (conv_expand): Conv2d(20, 480, kernel_size=(1, 1), stride=(1, 1))\n",
              "          (gate): Sigmoid()\n",
              "        )\n",
              "        (conv_pwl): Conv2d(480, 112, kernel_size=(1, 1), stride=(1, 1), bias=False)\n",
              "        (bn3): BatchNormAct2d(\n",
              "          112, eps=1e-05, momentum=0.1, affine=True, track_running_stats=True\n",
              "          (drop): Identity()\n",
              "          (act): Identity()\n",
              "        )\n",
              "        (drop_path): Identity()\n",
              "      )\n",
              "      (1): InvertedResidual(\n",
              "        (conv_pw): Conv2d(112, 672, kernel_size=(1, 1), stride=(1, 1), bias=False)\n",
              "        (bn1): BatchNormAct2d(\n",
              "          672, eps=1e-05, momentum=0.1, affine=True, track_running_stats=True\n",
              "          (drop): Identity()\n",
              "          (act): SiLU(inplace=True)\n",
              "        )\n",
              "        (conv_dw): Conv2d(672, 672, kernel_size=(5, 5), stride=(1, 1), padding=(2, 2), groups=672, bias=False)\n",
              "        (bn2): BatchNormAct2d(\n",
              "          672, eps=1e-05, momentum=0.1, affine=True, track_running_stats=True\n",
              "          (drop): Identity()\n",
              "          (act): SiLU(inplace=True)\n",
              "        )\n",
              "        (aa): Identity()\n",
              "        (se): SqueezeExcite(\n",
              "          (conv_reduce): Conv2d(672, 28, kernel_size=(1, 1), stride=(1, 1))\n",
              "          (act1): SiLU(inplace=True)\n",
              "          (conv_expand): Conv2d(28, 672, kernel_size=(1, 1), stride=(1, 1))\n",
              "          (gate): Sigmoid()\n",
              "        )\n",
              "        (conv_pwl): Conv2d(672, 112, kernel_size=(1, 1), stride=(1, 1), bias=False)\n",
              "        (bn3): BatchNormAct2d(\n",
              "          112, eps=1e-05, momentum=0.1, affine=True, track_running_stats=True\n",
              "          (drop): Identity()\n",
              "          (act): Identity()\n",
              "        )\n",
              "        (drop_path): Identity()\n",
              "      )\n",
              "      (2): InvertedResidual(\n",
              "        (conv_pw): Conv2d(112, 672, kernel_size=(1, 1), stride=(1, 1), bias=False)\n",
              "        (bn1): BatchNormAct2d(\n",
              "          672, eps=1e-05, momentum=0.1, affine=True, track_running_stats=True\n",
              "          (drop): Identity()\n",
              "          (act): SiLU(inplace=True)\n",
              "        )\n",
              "        (conv_dw): Conv2d(672, 672, kernel_size=(5, 5), stride=(1, 1), padding=(2, 2), groups=672, bias=False)\n",
              "        (bn2): BatchNormAct2d(\n",
              "          672, eps=1e-05, momentum=0.1, affine=True, track_running_stats=True\n",
              "          (drop): Identity()\n",
              "          (act): SiLU(inplace=True)\n",
              "        )\n",
              "        (aa): Identity()\n",
              "        (se): SqueezeExcite(\n",
              "          (conv_reduce): Conv2d(672, 28, kernel_size=(1, 1), stride=(1, 1))\n",
              "          (act1): SiLU(inplace=True)\n",
              "          (conv_expand): Conv2d(28, 672, kernel_size=(1, 1), stride=(1, 1))\n",
              "          (gate): Sigmoid()\n",
              "        )\n",
              "        (conv_pwl): Conv2d(672, 112, kernel_size=(1, 1), stride=(1, 1), bias=False)\n",
              "        (bn3): BatchNormAct2d(\n",
              "          112, eps=1e-05, momentum=0.1, affine=True, track_running_stats=True\n",
              "          (drop): Identity()\n",
              "          (act): Identity()\n",
              "        )\n",
              "        (drop_path): Identity()\n",
              "      )\n",
              "    )\n",
              "    (5): Sequential(\n",
              "      (0): InvertedResidual(\n",
              "        (conv_pw): Conv2d(112, 672, kernel_size=(1, 1), stride=(1, 1), bias=False)\n",
              "        (bn1): BatchNormAct2d(\n",
              "          672, eps=1e-05, momentum=0.1, affine=True, track_running_stats=True\n",
              "          (drop): Identity()\n",
              "          (act): SiLU(inplace=True)\n",
              "        )\n",
              "        (conv_dw): Conv2d(672, 672, kernel_size=(5, 5), stride=(2, 2), padding=(2, 2), groups=672, bias=False)\n",
              "        (bn2): BatchNormAct2d(\n",
              "          672, eps=1e-05, momentum=0.1, affine=True, track_running_stats=True\n",
              "          (drop): Identity()\n",
              "          (act): SiLU(inplace=True)\n",
              "        )\n",
              "        (aa): Identity()\n",
              "        (se): SqueezeExcite(\n",
              "          (conv_reduce): Conv2d(672, 28, kernel_size=(1, 1), stride=(1, 1))\n",
              "          (act1): SiLU(inplace=True)\n",
              "          (conv_expand): Conv2d(28, 672, kernel_size=(1, 1), stride=(1, 1))\n",
              "          (gate): Sigmoid()\n",
              "        )\n",
              "        (conv_pwl): Conv2d(672, 192, kernel_size=(1, 1), stride=(1, 1), bias=False)\n",
              "        (bn3): BatchNormAct2d(\n",
              "          192, eps=1e-05, momentum=0.1, affine=True, track_running_stats=True\n",
              "          (drop): Identity()\n",
              "          (act): Identity()\n",
              "        )\n",
              "        (drop_path): Identity()\n",
              "      )\n",
              "      (1): InvertedResidual(\n",
              "        (conv_pw): Conv2d(192, 1152, kernel_size=(1, 1), stride=(1, 1), bias=False)\n",
              "        (bn1): BatchNormAct2d(\n",
              "          1152, eps=1e-05, momentum=0.1, affine=True, track_running_stats=True\n",
              "          (drop): Identity()\n",
              "          (act): SiLU(inplace=True)\n",
              "        )\n",
              "        (conv_dw): Conv2d(1152, 1152, kernel_size=(5, 5), stride=(1, 1), padding=(2, 2), groups=1152, bias=False)\n",
              "        (bn2): BatchNormAct2d(\n",
              "          1152, eps=1e-05, momentum=0.1, affine=True, track_running_stats=True\n",
              "          (drop): Identity()\n",
              "          (act): SiLU(inplace=True)\n",
              "        )\n",
              "        (aa): Identity()\n",
              "        (se): SqueezeExcite(\n",
              "          (conv_reduce): Conv2d(1152, 48, kernel_size=(1, 1), stride=(1, 1))\n",
              "          (act1): SiLU(inplace=True)\n",
              "          (conv_expand): Conv2d(48, 1152, kernel_size=(1, 1), stride=(1, 1))\n",
              "          (gate): Sigmoid()\n",
              "        )\n",
              "        (conv_pwl): Conv2d(1152, 192, kernel_size=(1, 1), stride=(1, 1), bias=False)\n",
              "        (bn3): BatchNormAct2d(\n",
              "          192, eps=1e-05, momentum=0.1, affine=True, track_running_stats=True\n",
              "          (drop): Identity()\n",
              "          (act): Identity()\n",
              "        )\n",
              "        (drop_path): Identity()\n",
              "      )\n",
              "      (2): InvertedResidual(\n",
              "        (conv_pw): Conv2d(192, 1152, kernel_size=(1, 1), stride=(1, 1), bias=False)\n",
              "        (bn1): BatchNormAct2d(\n",
              "          1152, eps=1e-05, momentum=0.1, affine=True, track_running_stats=True\n",
              "          (drop): Identity()\n",
              "          (act): SiLU(inplace=True)\n",
              "        )\n",
              "        (conv_dw): Conv2d(1152, 1152, kernel_size=(5, 5), stride=(1, 1), padding=(2, 2), groups=1152, bias=False)\n",
              "        (bn2): BatchNormAct2d(\n",
              "          1152, eps=1e-05, momentum=0.1, affine=True, track_running_stats=True\n",
              "          (drop): Identity()\n",
              "          (act): SiLU(inplace=True)\n",
              "        )\n",
              "        (aa): Identity()\n",
              "        (se): SqueezeExcite(\n",
              "          (conv_reduce): Conv2d(1152, 48, kernel_size=(1, 1), stride=(1, 1))\n",
              "          (act1): SiLU(inplace=True)\n",
              "          (conv_expand): Conv2d(48, 1152, kernel_size=(1, 1), stride=(1, 1))\n",
              "          (gate): Sigmoid()\n",
              "        )\n",
              "        (conv_pwl): Conv2d(1152, 192, kernel_size=(1, 1), stride=(1, 1), bias=False)\n",
              "        (bn3): BatchNormAct2d(\n",
              "          192, eps=1e-05, momentum=0.1, affine=True, track_running_stats=True\n",
              "          (drop): Identity()\n",
              "          (act): Identity()\n",
              "        )\n",
              "        (drop_path): Identity()\n",
              "      )\n",
              "      (3): InvertedResidual(\n",
              "        (conv_pw): Conv2d(192, 1152, kernel_size=(1, 1), stride=(1, 1), bias=False)\n",
              "        (bn1): BatchNormAct2d(\n",
              "          1152, eps=1e-05, momentum=0.1, affine=True, track_running_stats=True\n",
              "          (drop): Identity()\n",
              "          (act): SiLU(inplace=True)\n",
              "        )\n",
              "        (conv_dw): Conv2d(1152, 1152, kernel_size=(5, 5), stride=(1, 1), padding=(2, 2), groups=1152, bias=False)\n",
              "        (bn2): BatchNormAct2d(\n",
              "          1152, eps=1e-05, momentum=0.1, affine=True, track_running_stats=True\n",
              "          (drop): Identity()\n",
              "          (act): SiLU(inplace=True)\n",
              "        )\n",
              "        (aa): Identity()\n",
              "        (se): SqueezeExcite(\n",
              "          (conv_reduce): Conv2d(1152, 48, kernel_size=(1, 1), stride=(1, 1))\n",
              "          (act1): SiLU(inplace=True)\n",
              "          (conv_expand): Conv2d(48, 1152, kernel_size=(1, 1), stride=(1, 1))\n",
              "          (gate): Sigmoid()\n",
              "        )\n",
              "        (conv_pwl): Conv2d(1152, 192, kernel_size=(1, 1), stride=(1, 1), bias=False)\n",
              "        (bn3): BatchNormAct2d(\n",
              "          192, eps=1e-05, momentum=0.1, affine=True, track_running_stats=True\n",
              "          (drop): Identity()\n",
              "          (act): Identity()\n",
              "        )\n",
              "        (drop_path): Identity()\n",
              "      )\n",
              "    )\n",
              "    (6): Sequential(\n",
              "      (0): InvertedResidual(\n",
              "        (conv_pw): Conv2d(192, 1152, kernel_size=(1, 1), stride=(1, 1), bias=False)\n",
              "        (bn1): BatchNormAct2d(\n",
              "          1152, eps=1e-05, momentum=0.1, affine=True, track_running_stats=True\n",
              "          (drop): Identity()\n",
              "          (act): SiLU(inplace=True)\n",
              "        )\n",
              "        (conv_dw): Conv2d(1152, 1152, kernel_size=(3, 3), stride=(1, 1), padding=(1, 1), groups=1152, bias=False)\n",
              "        (bn2): BatchNormAct2d(\n",
              "          1152, eps=1e-05, momentum=0.1, affine=True, track_running_stats=True\n",
              "          (drop): Identity()\n",
              "          (act): SiLU(inplace=True)\n",
              "        )\n",
              "        (aa): Identity()\n",
              "        (se): SqueezeExcite(\n",
              "          (conv_reduce): Conv2d(1152, 48, kernel_size=(1, 1), stride=(1, 1))\n",
              "          (act1): SiLU(inplace=True)\n",
              "          (conv_expand): Conv2d(48, 1152, kernel_size=(1, 1), stride=(1, 1))\n",
              "          (gate): Sigmoid()\n",
              "        )\n",
              "        (conv_pwl): Conv2d(1152, 320, kernel_size=(1, 1), stride=(1, 1), bias=False)\n",
              "        (bn3): BatchNormAct2d(\n",
              "          320, eps=1e-05, momentum=0.1, affine=True, track_running_stats=True\n",
              "          (drop): Identity()\n",
              "          (act): Identity()\n",
              "        )\n",
              "        (drop_path): Identity()\n",
              "      )\n",
              "    )\n",
              "  )\n",
              "  (conv_head): Conv2d(320, 1280, kernel_size=(1, 1), stride=(1, 1), bias=False)\n",
              "  (bn2): BatchNormAct2d(\n",
              "    1280, eps=1e-05, momentum=0.1, affine=True, track_running_stats=True\n",
              "    (drop): Identity()\n",
              "    (act): SiLU(inplace=True)\n",
              "  )\n",
              "  (global_pool): SelectAdaptivePool2d(pool_type=avg, flatten=Flatten(start_dim=1, end_dim=-1))\n",
              "  (classifier): Linear(in_features=1280, out_features=10, bias=True)\n",
              ")"
            ]
          },
          "metadata": {},
          "execution_count": 5
        }
      ]
    },
    {
      "cell_type": "code",
      "source": [
        "for p in model.parameters():\n",
        "    p.requires_grad = False\n",
        "\n",
        "for name, p in model.named_parameters():\n",
        "    if 'classifier' in name or 'head' in name or 'fc' in name:\n",
        "        p.requires_grad = True"
      ],
      "metadata": {
        "id": "EEeVKZCzh-tV"
      },
      "execution_count": null,
      "outputs": []
    },
    {
      "cell_type": "code",
      "source": [
        "criterion = nn.CrossEntropyLoss(label_smoothing=0.0)\n",
        "trainable_params = [p for p in model.parameters() if p.requires_grad]\n",
        "optimizer = optim.AdamW(trainable_params, lr=LR_HEAD, weight_decay=WEIGHT_DECAY)\n",
        "scheduler = torch.optim.lr_scheduler.CosineAnnealingLR(optimizer, T_max=NUM_EPOCHS)\n",
        "\n",
        "scaler = torch.cuda.amp.GradScaler(enabled=(DEVICE == 'cuda'))"
      ],
      "metadata": {
        "id": "duHoB15HiCgT",
        "colab": {
          "base_uri": "https://localhost:8080/"
        },
        "outputId": "3380ed01-03cc-49f8-c8b2-82db3757c2c5"
      },
      "execution_count": null,
      "outputs": [
        {
          "output_type": "stream",
          "name": "stderr",
          "text": [
            "/tmp/ipython-input-3209936643.py:6: FutureWarning: `torch.cuda.amp.GradScaler(args...)` is deprecated. Please use `torch.amp.GradScaler('cuda', args...)` instead.\n",
            "  scaler = torch.cuda.amp.GradScaler(enabled=(DEVICE == 'cuda'))\n"
          ]
        }
      ]
    },
    {
      "cell_type": "code",
      "source": [
        "def mixup_data(x, y, alpha=0.5):\n",
        "    if alpha <= 0:\n",
        "        return x, y, None, None, 1.0\n",
        "    lam = np.random.beta(alpha, alpha)\n",
        "    batch_size = x.size(0)\n",
        "    index = torch.randperm(batch_size).to(x.device)\n",
        "    mixed_x = lam * x + (1 - lam) * x[index, :]\n",
        "    y_a, y_b = y, y[index]\n",
        "    return mixed_x, y_a, y_b, lam"
      ],
      "metadata": {
        "id": "Qv0p4fE-iHFv"
      },
      "execution_count": null,
      "outputs": []
    },
    {
      "cell_type": "code",
      "source": [
        "def train_one_epoch(epoch, use_mixup=False):\n",
        "    model.train()\n",
        "    losses = []\n",
        "    preds_all = []\n",
        "    targets_all = []\n",
        "    loop = tqdm(train_loader, desc=f'Train {epoch}')\n",
        "    for imgs, targets in loop:\n",
        "        imgs = imgs.to(DEVICE)\n",
        "        targets = targets.to(DEVICE)\n",
        "        optimizer.zero_grad()\n",
        "\n",
        "        if use_mixup:\n",
        "            imgs_m, targets_a, targets_b, lam = mixup_data(imgs, targets, alpha=MIXUP_ALPHA)\n",
        "            inputs = imgs_m\n",
        "            mix = True\n",
        "        else:\n",
        "            inputs = imgs\n",
        "            mix = False\n",
        "\n",
        "        with torch.cuda.amp.autocast(enabled=(DEVICE == 'cuda')):\n",
        "            logits = model(inputs)\n",
        "            if mix:\n",
        "                loss = lam * criterion(logits, targets_a) + (1 - lam) * criterion(logits, targets_b)\n",
        "            else:\n",
        "                loss = criterion(logits, targets)\n",
        "\n",
        "        scaler.scale(loss).backward()\n",
        "        scaler.unscale_(optimizer)\n",
        "        torch.nn.utils.clip_grad_norm_(model.parameters(), max_norm=1.0)\n",
        "        scaler.step(optimizer)\n",
        "        scaler.update()\n",
        "\n",
        "        losses.append(loss.item())\n",
        "        preds_all.extend(logits.argmax(dim=1).cpu().numpy())\n",
        "        targets_all.extend(targets.cpu().numpy())\n",
        "        loop.set_postfix({'loss': np.mean(losses)})\n",
        "\n",
        "    acc = accuracy_score(targets_all, preds_all)\n",
        "    p, r, f1, _ = precision_recall_fscore_support(targets_all, preds_all, average='weighted')\n",
        "    return np.mean(losses), acc, p, r, f1"
      ],
      "metadata": {
        "id": "mC1jhKNfiOW_"
      },
      "execution_count": null,
      "outputs": []
    },
    {
      "cell_type": "code",
      "source": [
        "def validate(full=True, max_samples=None, epoch=None, show_batch_prints=True):\n",
        "    model.eval()\n",
        "    losses = []\n",
        "    preds_all = []\n",
        "    targets_all = []\n",
        "    probs_all = []\n",
        "    seen = 0\n",
        "    with torch.no_grad():\n",
        "        desc = f'Val   {epoch}' if epoch is not None else 'Val'\n",
        "        loop = tqdm(val_loader, desc=desc, mininterval=0.1)\n",
        "        for batch_idx, (imgs, targets) in enumerate(loop):\n",
        "            if show_batch_prints and batch_idx % 10 == 0:\n",
        "                print(f\"Val batch {batch_idx}/{len(val_loader)}\")\n",
        "\n",
        "            imgs = imgs.to(DEVICE)\n",
        "            targets = targets.to(DEVICE)\n",
        "            with torch.cuda.amp.autocast(enabled=(DEVICE == 'cuda')):\n",
        "                logits = model(imgs)\n",
        "                loss = criterion(logits, targets)\n",
        "                probs = torch.softmax(logits, dim=1)\n",
        "            losses.append(loss.item())\n",
        "            preds_all.extend(logits.argmax(dim=1).cpu().numpy())\n",
        "            targets_all.extend(targets.cpu().numpy())\n",
        "            probs_all.extend(probs.cpu().numpy())\n",
        "            loop.set_postfix({'loss': np.mean(losses)})\n",
        "            if max_samples is not None:\n",
        "                seen += imgs.size(0)\n",
        "                if seen >= max_samples:\n",
        "                    break\n",
        "\n",
        "    acc = accuracy_score(targets_all, preds_all)\n",
        "    p, r, f1, _ = precision_recall_fscore_support(targets_all, preds_all, average='weighted')\n",
        "    try:\n",
        "        y_true_onehot = np.zeros((len(targets_all), num_classes))\n",
        "        for i, t in enumerate(targets_all):\n",
        "            y_true_onehot[i, t] = 1\n",
        "        roc_auc = roc_auc_score(y_true_onehot, np.array(probs_all), multi_class='ovr')\n",
        "    except Exception:\n",
        "        roc_auc = None\n",
        "\n",
        "    return np.mean(losses), acc, p, r, f1, roc_auc, preds_all, targets_all"
      ],
      "metadata": {
        "id": "NR9BBEVRiPAu"
      },
      "execution_count": null,
      "outputs": []
    },
    {
      "cell_type": "code",
      "source": [
        "best_val_f1 = 0.0\n",
        "history = defaultdict(list)\n",
        "start_time = time.time()\n",
        "\n",
        "for epoch in range(1, NUM_EPOCHS + 1):\n",
        "    # MixUp по желанию\n",
        "    use_mix = USE_MIXUP\n",
        "    train_loss, train_acc, train_p, train_r, train_f1 = train_one_epoch(epoch, use_mixup=use_mix)\n",
        "\n",
        "    do_val = (epoch % VAL_EVERY == 0)\n",
        "    if do_val:\n",
        "        if VAL_SUBSET is not None:\n",
        "            val_loss, val_acc, val_p, val_r, val_f1, val_rocauc, val_preds, val_targets = validate(full=False, max_samples=VAL_SUBSET, epoch=epoch, show_batch_prints=True)\n",
        "        else:\n",
        "            val_loss, val_acc, val_p, val_r, val_f1, val_rocauc, val_preds, val_targets = validate(epoch=epoch, show_batch_prints=True)\n",
        "    else:\n",
        "        val_loss = val_acc = val_p = val_r = val_f1 = val_rocauc = None\n",
        "\n",
        "    if epoch == HEAD_EPOCHS:\n",
        "        for name, p in model.named_parameters():\n",
        "            p.requires_grad = True\n",
        "        backbone_params = []\n",
        "        head_params = []\n",
        "        for name, p in model.named_parameters():\n",
        "            if 'classifier' in name or 'head' in name or 'fc' in name:\n",
        "                head_params.append(p)\n",
        "            else:\n",
        "                backbone_params.append(p)\n",
        "        optimizer = optim.AdamW([\n",
        "            {'params': head_params, 'lr': LR_HEAD},\n",
        "            {'params': backbone_params, 'lr': LR_BACKBONE}\n",
        "        ], weight_decay=WEIGHT_DECAY)\n",
        "        scheduler = torch.optim.lr_scheduler.CosineAnnealingLR(optimizer, T_max=max(1, NUM_EPOCHS - epoch))\n",
        "\n",
        "\n",
        "    try:\n",
        "        scheduler.step()\n",
        "    except Exception:\n",
        "        pass\n",
        "\n",
        "    history['train_loss'].append(train_loss)\n",
        "    if val_loss is not None:\n",
        "        history['val_loss'].append(val_loss)\n",
        "        history['train_acc'].append(train_acc)\n",
        "        history['val_acc'].append(val_acc)\n",
        "        history['train_f1'].append(train_f1)\n",
        "        history['val_f1'].append(val_f1)\n",
        "\n",
        "    print(f\"Epoch {epoch}: train_loss={train_loss:.4f} train_acc={train_acc:.4f} train_f1={train_f1:.4f}\")\n",
        "    if val_loss is not None:\n",
        "        print(f\"           val_loss={val_loss:.4f} val_acc={val_acc:.4f} val_f1={val_f1:.4f} roc_auc={val_rocauc}\")\n",
        "\n",
        "    if val_f1 is not None and val_f1 > best_val_f1:\n",
        "        best_val_f1 = val_f1\n",
        "        torch.save({'model_state_dict': model.state_dict(), 'optimizer_state_dict': optimizer.state_dict(),\n",
        "                    'epoch': epoch, 'num_classes': num_classes}, SAVE_PATH)\n",
        "        print('Saved', SAVE_PATH)\n",
        "\n",
        "print('Training finished in {:.1f} minutes'.format((time.time() - start_time) / 60))"
      ],
      "metadata": {
        "id": "GIMziJZ9iT_j",
        "colab": {
          "base_uri": "https://localhost:8080/"
        },
        "outputId": "8c106450-d1a6-487a-d3fc-07053231fdd4"
      },
      "execution_count": null,
      "outputs": [
        {
          "output_type": "stream",
          "name": "stderr",
          "text": [
            "\rTrain 1:   0%|          | 0/391 [00:00<?, ?it/s]/tmp/ipython-input-2992429118.py:20: FutureWarning: `torch.cuda.amp.autocast(args...)` is deprecated. Please use `torch.amp.autocast('cuda', args...)` instead.\n",
            "  with torch.cuda.amp.autocast(enabled=(DEVICE == 'cuda')):\n",
            "Train 1: 100%|██████████| 391/391 [02:21<00:00,  2.75it/s, loss=1.58]\n",
            "Val   1:   0%|          | 0/79 [00:00<?, ?it/s]/tmp/ipython-input-647854894.py:17: FutureWarning: `torch.cuda.amp.autocast(args...)` is deprecated. Please use `torch.amp.autocast('cuda', args...)` instead.\n",
            "  with torch.cuda.amp.autocast(enabled=(DEVICE == 'cuda')):\n",
            "Val   1:   4%|▍         | 3/79 [00:00<00:10,  6.97it/s, loss=0.964]"
          ]
        },
        {
          "output_type": "stream",
          "name": "stdout",
          "text": [
            "Val batch 0/79\n"
          ]
        },
        {
          "output_type": "stream",
          "name": "stderr",
          "text": [
            "Val   1:  14%|█▍        | 11/79 [00:01<00:07,  8.98it/s, loss=0.988]"
          ]
        },
        {
          "output_type": "stream",
          "name": "stdout",
          "text": [
            "Val batch 10/79\n"
          ]
        },
        {
          "output_type": "stream",
          "name": "stderr",
          "text": [
            "Val   1:  27%|██▋       | 21/79 [00:02<00:06,  9.17it/s, loss=1.01]"
          ]
        },
        {
          "output_type": "stream",
          "name": "stdout",
          "text": [
            "Val batch 20/79\n"
          ]
        },
        {
          "output_type": "stream",
          "name": "stderr",
          "text": [
            "Val   1:  39%|███▉      | 31/79 [00:03<00:05,  9.39it/s, loss=1]   "
          ]
        },
        {
          "output_type": "stream",
          "name": "stdout",
          "text": [
            "Val batch 30/79\n"
          ]
        },
        {
          "output_type": "stream",
          "name": "stderr",
          "text": [
            "Val   1:  52%|█████▏    | 41/79 [00:04<00:05,  6.85it/s, loss=1.01]"
          ]
        },
        {
          "output_type": "stream",
          "name": "stdout",
          "text": [
            "Val batch 40/79\n"
          ]
        },
        {
          "output_type": "stream",
          "name": "stderr",
          "text": [
            "Val   1:  65%|██████▍   | 51/79 [00:06<00:04,  5.67it/s, loss=1]"
          ]
        },
        {
          "output_type": "stream",
          "name": "stdout",
          "text": [
            "Val batch 50/79\n"
          ]
        },
        {
          "output_type": "stream",
          "name": "stderr",
          "text": [
            "Val   1:  77%|███████▋  | 61/79 [00:07<00:02,  8.22it/s, loss=0.999]"
          ]
        },
        {
          "output_type": "stream",
          "name": "stdout",
          "text": [
            "Val batch 60/79\n"
          ]
        },
        {
          "output_type": "stream",
          "name": "stderr",
          "text": [
            "Val   1:  90%|████████▉ | 71/79 [00:08<00:00,  9.20it/s, loss=1]"
          ]
        },
        {
          "output_type": "stream",
          "name": "stdout",
          "text": [
            "Val batch 70/79\n"
          ]
        },
        {
          "output_type": "stream",
          "name": "stderr",
          "text": [
            "Val   1: 100%|██████████| 79/79 [00:12<00:00,  6.25it/s, loss=1]\n"
          ]
        },
        {
          "output_type": "stream",
          "name": "stdout",
          "text": [
            "Epoch 1: train_loss=1.5821 train_acc=0.3672 train_f1=0.3664\n",
            "           val_loss=1.0022 val_acc=0.7009 val_f1=0.6962 roc_auc=0.9590545277777777\n",
            "Saved best_model.pth\n"
          ]
        },
        {
          "output_type": "stream",
          "name": "stderr",
          "text": [
            "Train 2:   0%|          | 0/391 [00:00<?, ?it/s]/tmp/ipython-input-2992429118.py:20: FutureWarning: `torch.cuda.amp.autocast(args...)` is deprecated. Please use `torch.amp.autocast('cuda', args...)` instead.\n",
            "  with torch.cuda.amp.autocast(enabled=(DEVICE == 'cuda')):\n",
            "Train 2: 100%|██████████| 391/391 [02:10<00:00,  2.98it/s, loss=1.49]\n",
            "Val   2:   0%|          | 0/79 [00:00<?, ?it/s]/tmp/ipython-input-647854894.py:17: FutureWarning: `torch.cuda.amp.autocast(args...)` is deprecated. Please use `torch.amp.autocast('cuda', args...)` instead.\n",
            "  with torch.cuda.amp.autocast(enabled=(DEVICE == 'cuda')):\n",
            "Val   2:   1%|▏         | 1/79 [00:00<00:19,  4.03it/s, loss=0.97]"
          ]
        },
        {
          "output_type": "stream",
          "name": "stdout",
          "text": [
            "Val batch 0/79\n"
          ]
        },
        {
          "output_type": "stream",
          "name": "stderr",
          "text": [
            "Val   2:  14%|█▍        | 11/79 [00:01<00:07,  9.21it/s, loss=0.915]"
          ]
        },
        {
          "output_type": "stream",
          "name": "stdout",
          "text": [
            "Val batch 10/79\n"
          ]
        },
        {
          "output_type": "stream",
          "name": "stderr",
          "text": [
            "Val   2:  27%|██▋       | 21/79 [00:02<00:08,  7.18it/s, loss=0.93] "
          ]
        },
        {
          "output_type": "stream",
          "name": "stdout",
          "text": [
            "Val batch 20/79\n"
          ]
        },
        {
          "output_type": "stream",
          "name": "stderr",
          "text": [
            "Val   2:  41%|████      | 32/79 [00:04<00:06,  6.80it/s, loss=0.93]"
          ]
        },
        {
          "output_type": "stream",
          "name": "stdout",
          "text": [
            "Val batch 30/79\n"
          ]
        },
        {
          "output_type": "stream",
          "name": "stderr",
          "text": [
            "Val   2:  53%|█████▎    | 42/79 [00:05<00:04,  8.19it/s, loss=0.931]"
          ]
        },
        {
          "output_type": "stream",
          "name": "stdout",
          "text": [
            "Val batch 40/79\n"
          ]
        },
        {
          "output_type": "stream",
          "name": "stderr",
          "text": [
            "Val   2:  66%|██████▌   | 52/79 [00:06<00:02, 10.07it/s, loss=0.931]"
          ]
        },
        {
          "output_type": "stream",
          "name": "stdout",
          "text": [
            "Val batch 50/79\n"
          ]
        },
        {
          "output_type": "stream",
          "name": "stderr",
          "text": [
            "Val   2:  78%|███████▊  | 62/79 [00:07<00:01,  9.37it/s, loss=0.927]"
          ]
        },
        {
          "output_type": "stream",
          "name": "stdout",
          "text": [
            "Val batch 60/79\n"
          ]
        },
        {
          "output_type": "stream",
          "name": "stderr",
          "text": [
            "Val   2:  90%|████████▉ | 71/79 [00:08<00:00,  9.45it/s, loss=0.932]"
          ]
        },
        {
          "output_type": "stream",
          "name": "stdout",
          "text": [
            "Val batch 70/79\n"
          ]
        },
        {
          "output_type": "stream",
          "name": "stderr",
          "text": [
            "Val   2: 100%|██████████| 79/79 [00:09<00:00,  8.49it/s, loss=0.932]\n"
          ]
        },
        {
          "output_type": "stream",
          "name": "stdout",
          "text": [
            "Epoch 2: train_loss=1.4923 train_acc=0.3853 train_f1=0.3848\n",
            "           val_loss=0.9322 val_acc=0.7307 val_f1=0.7234 roc_auc=0.965429811111111\n",
            "Saved best_model.pth\n"
          ]
        },
        {
          "output_type": "stream",
          "name": "stderr",
          "text": [
            "Train 3:   0%|          | 0/391 [00:00<?, ?it/s]/tmp/ipython-input-2992429118.py:20: FutureWarning: `torch.cuda.amp.autocast(args...)` is deprecated. Please use `torch.amp.autocast('cuda', args...)` instead.\n",
            "  with torch.cuda.amp.autocast(enabled=(DEVICE == 'cuda')):\n",
            "Train 3: 100%|██████████| 391/391 [02:09<00:00,  3.01it/s, loss=1.43]\n",
            "Val   3:   0%|          | 0/79 [00:00<?, ?it/s]/tmp/ipython-input-647854894.py:17: FutureWarning: `torch.cuda.amp.autocast(args...)` is deprecated. Please use `torch.amp.autocast('cuda', args...)` instead.\n",
            "  with torch.cuda.amp.autocast(enabled=(DEVICE == 'cuda')):\n",
            "Val   3:   1%|▏         | 1/79 [00:00<00:23,  3.33it/s, loss=0.884]"
          ]
        },
        {
          "output_type": "stream",
          "name": "stdout",
          "text": [
            "Val batch 0/79\n"
          ]
        },
        {
          "output_type": "stream",
          "name": "stderr",
          "text": [
            "Val   3:  14%|█▍        | 11/79 [00:01<00:06, 10.04it/s, loss=0.842]"
          ]
        },
        {
          "output_type": "stream",
          "name": "stdout",
          "text": [
            "Val batch 10/79\n"
          ]
        },
        {
          "output_type": "stream",
          "name": "stderr",
          "text": [
            "Val   3:  27%|██▋       | 21/79 [00:02<00:05,  9.91it/s, loss=0.857]"
          ]
        },
        {
          "output_type": "stream",
          "name": "stdout",
          "text": [
            "Val batch 20/79\n"
          ]
        },
        {
          "output_type": "stream",
          "name": "stderr",
          "text": [
            "Val   3:  39%|███▉      | 31/79 [00:03<00:05,  8.95it/s, loss=0.854]"
          ]
        },
        {
          "output_type": "stream",
          "name": "stdout",
          "text": [
            "Val batch 30/79\n"
          ]
        },
        {
          "output_type": "stream",
          "name": "stderr",
          "text": [
            "Val   3:  52%|█████▏    | 41/79 [00:04<00:05,  6.36it/s, loss=0.854]"
          ]
        },
        {
          "output_type": "stream",
          "name": "stdout",
          "text": [
            "Val batch 40/79\n"
          ]
        },
        {
          "output_type": "stream",
          "name": "stderr",
          "text": [
            "Val   3:  65%|██████▍   | 51/79 [00:06<00:04,  5.71it/s, loss=0.851]"
          ]
        },
        {
          "output_type": "stream",
          "name": "stdout",
          "text": [
            "Val batch 50/79\n"
          ]
        },
        {
          "output_type": "stream",
          "name": "stderr",
          "text": [
            "Val   3:  77%|███████▋  | 61/79 [00:07<00:02,  8.42it/s, loss=0.847]"
          ]
        },
        {
          "output_type": "stream",
          "name": "stdout",
          "text": [
            "Val batch 60/79\n"
          ]
        },
        {
          "output_type": "stream",
          "name": "stderr",
          "text": [
            "Val   3:  90%|████████▉ | 71/79 [00:08<00:00,  9.49it/s, loss=0.851]"
          ]
        },
        {
          "output_type": "stream",
          "name": "stdout",
          "text": [
            "Val batch 70/79\n"
          ]
        },
        {
          "output_type": "stream",
          "name": "stderr",
          "text": [
            "Val   3: 100%|██████████| 79/79 [00:09<00:00,  8.47it/s, loss=0.852]\n"
          ]
        },
        {
          "output_type": "stream",
          "name": "stdout",
          "text": [
            "Epoch 3: train_loss=1.4274 train_acc=0.4221 train_f1=0.4216\n",
            "           val_loss=0.8521 val_acc=0.7497 val_f1=0.7441 roc_auc=0.9695253888888888\n",
            "Saved best_model.pth\n"
          ]
        },
        {
          "output_type": "stream",
          "name": "stderr",
          "text": [
            "Train 4:   0%|          | 0/391 [00:00<?, ?it/s]/tmp/ipython-input-2992429118.py:20: FutureWarning: `torch.cuda.amp.autocast(args...)` is deprecated. Please use `torch.amp.autocast('cuda', args...)` instead.\n",
            "  with torch.cuda.amp.autocast(enabled=(DEVICE == 'cuda')):\n",
            "Train 4: 100%|██████████| 391/391 [02:10<00:00,  2.99it/s, loss=1.41]\n",
            "Val   4:   0%|          | 0/79 [00:00<?, ?it/s]/tmp/ipython-input-647854894.py:17: FutureWarning: `torch.cuda.amp.autocast(args...)` is deprecated. Please use `torch.amp.autocast('cuda', args...)` instead.\n",
            "  with torch.cuda.amp.autocast(enabled=(DEVICE == 'cuda')):\n",
            "Val   4:   1%|▏         | 1/79 [00:00<00:18,  4.23it/s, loss=0.923]"
          ]
        },
        {
          "output_type": "stream",
          "name": "stdout",
          "text": [
            "Val batch 0/79\n"
          ]
        },
        {
          "output_type": "stream",
          "name": "stderr",
          "text": [
            "Val   4:  14%|█▍        | 11/79 [00:01<00:07,  9.12it/s, loss=0.851]"
          ]
        },
        {
          "output_type": "stream",
          "name": "stdout",
          "text": [
            "Val batch 10/79\n"
          ]
        },
        {
          "output_type": "stream",
          "name": "stderr",
          "text": [
            "Val   4:  27%|██▋       | 21/79 [00:02<00:06,  9.44it/s, loss=0.865]"
          ]
        },
        {
          "output_type": "stream",
          "name": "stdout",
          "text": [
            "Val batch 20/79\n"
          ]
        },
        {
          "output_type": "stream",
          "name": "stderr",
          "text": [
            "Val   4:  39%|███▉      | 31/79 [00:03<00:04,  9.84it/s, loss=0.864]"
          ]
        },
        {
          "output_type": "stream",
          "name": "stdout",
          "text": [
            "Val batch 30/79\n"
          ]
        },
        {
          "output_type": "stream",
          "name": "stderr",
          "text": [
            "Val   4:  52%|█████▏    | 41/79 [00:04<00:03, 10.12it/s, loss=0.862]"
          ]
        },
        {
          "output_type": "stream",
          "name": "stdout",
          "text": [
            "Val batch 40/79\n"
          ]
        },
        {
          "output_type": "stream",
          "name": "stderr",
          "text": [
            "Val   4:  65%|██████▍   | 51/79 [00:05<00:02,  9.68it/s, loss=0.857]"
          ]
        },
        {
          "output_type": "stream",
          "name": "stdout",
          "text": [
            "Val batch 50/79\n"
          ]
        },
        {
          "output_type": "stream",
          "name": "stderr",
          "text": [
            "Val   4:  77%|███████▋  | 61/79 [00:07<00:02,  6.33it/s, loss=0.852]"
          ]
        },
        {
          "output_type": "stream",
          "name": "stdout",
          "text": [
            "Val batch 60/79\n"
          ]
        },
        {
          "output_type": "stream",
          "name": "stderr",
          "text": [
            "Val   4:  90%|████████▉ | 71/79 [00:08<00:01,  6.59it/s, loss=0.854]"
          ]
        },
        {
          "output_type": "stream",
          "name": "stdout",
          "text": [
            "Val batch 70/79\n"
          ]
        },
        {
          "output_type": "stream",
          "name": "stderr",
          "text": [
            "Val   4: 100%|██████████| 79/79 [00:09<00:00,  8.48it/s, loss=0.854]\n"
          ]
        },
        {
          "output_type": "stream",
          "name": "stdout",
          "text": [
            "Epoch 4: train_loss=1.4145 train_acc=0.4314 train_f1=0.4308\n",
            "           val_loss=0.8542 val_acc=0.7557 val_f1=0.7541 roc_auc=0.9706775999999999\n",
            "Saved best_model.pth\n"
          ]
        },
        {
          "output_type": "stream",
          "name": "stderr",
          "text": [
            "Train 5:   0%|          | 0/391 [00:00<?, ?it/s]/tmp/ipython-input-2992429118.py:20: FutureWarning: `torch.cuda.amp.autocast(args...)` is deprecated. Please use `torch.amp.autocast('cuda', args...)` instead.\n",
            "  with torch.cuda.amp.autocast(enabled=(DEVICE == 'cuda')):\n",
            "Train 5: 100%|██████████| 391/391 [02:11<00:00,  2.98it/s, loss=1.41]\n",
            "Val   5:   0%|          | 0/79 [00:00<?, ?it/s]/tmp/ipython-input-647854894.py:17: FutureWarning: `torch.cuda.amp.autocast(args...)` is deprecated. Please use `torch.amp.autocast('cuda', args...)` instead.\n",
            "  with torch.cuda.amp.autocast(enabled=(DEVICE == 'cuda')):\n",
            "Val   5:   1%|▏         | 1/79 [00:00<00:17,  4.36it/s, loss=0.888]"
          ]
        },
        {
          "output_type": "stream",
          "name": "stdout",
          "text": [
            "Val batch 0/79\n"
          ]
        },
        {
          "output_type": "stream",
          "name": "stderr",
          "text": [
            "Val   5:  14%|█▍        | 11/79 [00:01<00:07,  8.89it/s, loss=0.841]"
          ]
        },
        {
          "output_type": "stream",
          "name": "stdout",
          "text": [
            "Val batch 10/79\n"
          ]
        },
        {
          "output_type": "stream",
          "name": "stderr",
          "text": [
            "Val   5:  27%|██▋       | 21/79 [00:02<00:05, 10.29it/s, loss=0.862]"
          ]
        },
        {
          "output_type": "stream",
          "name": "stdout",
          "text": [
            "Val batch 20/79\n"
          ]
        },
        {
          "output_type": "stream",
          "name": "stderr",
          "text": [
            "Val   5:  39%|███▉      | 31/79 [00:03<00:05,  9.24it/s, loss=0.861]"
          ]
        },
        {
          "output_type": "stream",
          "name": "stdout",
          "text": [
            "Val batch 30/79\n"
          ]
        },
        {
          "output_type": "stream",
          "name": "stderr",
          "text": [
            "Val   5:  51%|█████     | 40/79 [00:04<00:04,  8.91it/s, loss=0.862]"
          ]
        },
        {
          "output_type": "stream",
          "name": "stdout",
          "text": [
            "Val batch 40/79\n"
          ]
        },
        {
          "output_type": "stream",
          "name": "stderr",
          "text": [
            "Val   5:  66%|██████▌   | 52/79 [00:05<00:02, 10.08it/s, loss=0.857]"
          ]
        },
        {
          "output_type": "stream",
          "name": "stdout",
          "text": [
            "Val batch 50/79\n"
          ]
        },
        {
          "output_type": "stream",
          "name": "stderr",
          "text": [
            "Val   5:  76%|███████▌  | 60/79 [00:06<00:01,  9.96it/s, loss=0.854]"
          ]
        },
        {
          "output_type": "stream",
          "name": "stdout",
          "text": [
            "Val batch 60/79\n"
          ]
        },
        {
          "output_type": "stream",
          "name": "stderr",
          "text": [
            "Val   5:  89%|████████▊ | 70/79 [00:08<00:01,  5.93it/s, loss=0.854]"
          ]
        },
        {
          "output_type": "stream",
          "name": "stdout",
          "text": [
            "Val batch 70/79\n"
          ]
        },
        {
          "output_type": "stream",
          "name": "stderr",
          "text": [
            "Val   5: 100%|██████████| 79/79 [00:09<00:00,  8.64it/s, loss=0.851]\n",
            "/usr/local/lib/python3.12/dist-packages/torch/optim/lr_scheduler.py:192: UserWarning: Detected call of `lr_scheduler.step()` before `optimizer.step()`. In PyTorch 1.1.0 and later, you should call them in the opposite order: `optimizer.step()` before `lr_scheduler.step()`.  Failure to do this will result in PyTorch skipping the first value of the learning rate schedule. See more details at https://pytorch.org/docs/stable/optim.html#how-to-adjust-learning-rate\n",
            "  warnings.warn(\n"
          ]
        },
        {
          "output_type": "stream",
          "name": "stdout",
          "text": [
            "Epoch 5: train_loss=1.4108 train_acc=0.3851 train_f1=0.3846\n",
            "           val_loss=0.8510 val_acc=0.7475 val_f1=0.7428 roc_auc=0.9699607666666665\n"
          ]
        },
        {
          "output_type": "stream",
          "name": "stderr",
          "text": [
            "\rTrain 6:   0%|          | 0/391 [00:00<?, ?it/s]/tmp/ipython-input-2992429118.py:20: FutureWarning: `torch.cuda.amp.autocast(args...)` is deprecated. Please use `torch.amp.autocast('cuda', args...)` instead.\n",
            "  with torch.cuda.amp.autocast(enabled=(DEVICE == 'cuda')):\n",
            "Train 6: 100%|██████████| 391/391 [03:05<00:00,  2.11it/s, loss=1.34]\n",
            "Val   6:   0%|          | 0/79 [00:00<?, ?it/s]/tmp/ipython-input-647854894.py:17: FutureWarning: `torch.cuda.amp.autocast(args...)` is deprecated. Please use `torch.amp.autocast('cuda', args...)` instead.\n",
            "  with torch.cuda.amp.autocast(enabled=(DEVICE == 'cuda')):\n",
            "Val   6:   1%|▏         | 1/79 [00:00<00:19,  3.91it/s, loss=0.822]"
          ]
        },
        {
          "output_type": "stream",
          "name": "stdout",
          "text": [
            "Val batch 0/79\n"
          ]
        },
        {
          "output_type": "stream",
          "name": "stderr",
          "text": [
            "Val   6:  14%|█▍        | 11/79 [00:01<00:07,  8.60it/s, loss=0.798]"
          ]
        },
        {
          "output_type": "stream",
          "name": "stdout",
          "text": [
            "Val batch 10/79\n"
          ]
        },
        {
          "output_type": "stream",
          "name": "stderr",
          "text": [
            "Val   6:  27%|██▋       | 21/79 [00:02<00:07,  7.53it/s, loss=0.813]"
          ]
        },
        {
          "output_type": "stream",
          "name": "stdout",
          "text": [
            "Val batch 20/79\n"
          ]
        },
        {
          "output_type": "stream",
          "name": "stderr",
          "text": [
            "Val   6:  39%|███▉      | 31/79 [00:04<00:07,  6.14it/s, loss=0.811]"
          ]
        },
        {
          "output_type": "stream",
          "name": "stdout",
          "text": [
            "Val batch 30/79\n"
          ]
        },
        {
          "output_type": "stream",
          "name": "stderr",
          "text": [
            "Val   6:  52%|█████▏    | 41/79 [00:05<00:04,  8.21it/s, loss=0.81] "
          ]
        },
        {
          "output_type": "stream",
          "name": "stdout",
          "text": [
            "Val batch 40/79\n"
          ]
        },
        {
          "output_type": "stream",
          "name": "stderr",
          "text": [
            "Val   6:  65%|██████▍   | 51/79 [00:06<00:02,  9.38it/s, loss=0.805]"
          ]
        },
        {
          "output_type": "stream",
          "name": "stdout",
          "text": [
            "Val batch 50/79\n"
          ]
        },
        {
          "output_type": "stream",
          "name": "stderr",
          "text": [
            "Val   6:  78%|███████▊  | 62/79 [00:07<00:01,  9.10it/s, loss=0.8]"
          ]
        },
        {
          "output_type": "stream",
          "name": "stdout",
          "text": [
            "Val batch 60/79\n"
          ]
        },
        {
          "output_type": "stream",
          "name": "stderr",
          "text": [
            "Val   6:  91%|█████████ | 72/79 [00:08<00:00,  9.09it/s, loss=0.803]"
          ]
        },
        {
          "output_type": "stream",
          "name": "stdout",
          "text": [
            "Val batch 70/79\n"
          ]
        },
        {
          "output_type": "stream",
          "name": "stderr",
          "text": [
            "Val   6: 100%|██████████| 79/79 [00:09<00:00,  8.26it/s, loss=0.803]\n"
          ]
        },
        {
          "output_type": "stream",
          "name": "stdout",
          "text": [
            "Epoch 6: train_loss=1.3386 train_acc=0.4234 train_f1=0.4229\n",
            "           val_loss=0.8034 val_acc=0.7842 val_f1=0.7822 roc_auc=0.9763551999999999\n",
            "Saved best_model.pth\n"
          ]
        },
        {
          "output_type": "stream",
          "name": "stderr",
          "text": [
            "Train 7:   0%|          | 0/391 [00:00<?, ?it/s]/tmp/ipython-input-2992429118.py:20: FutureWarning: `torch.cuda.amp.autocast(args...)` is deprecated. Please use `torch.amp.autocast('cuda', args...)` instead.\n",
            "  with torch.cuda.amp.autocast(enabled=(DEVICE == 'cuda')):\n",
            "Train 7: 100%|██████████| 391/391 [02:23<00:00,  2.73it/s, loss=1.29]\n",
            "Val   7:   0%|          | 0/79 [00:00<?, ?it/s]/tmp/ipython-input-647854894.py:17: FutureWarning: `torch.cuda.amp.autocast(args...)` is deprecated. Please use `torch.amp.autocast('cuda', args...)` instead.\n",
            "  with torch.cuda.amp.autocast(enabled=(DEVICE == 'cuda')):\n",
            "Val   7:   1%|▏         | 1/79 [00:00<00:17,  4.46it/s, loss=0.726]"
          ]
        },
        {
          "output_type": "stream",
          "name": "stdout",
          "text": [
            "Val batch 0/79\n"
          ]
        },
        {
          "output_type": "stream",
          "name": "stderr",
          "text": [
            "Val   7:  14%|█▍        | 11/79 [00:01<00:07,  9.58it/s, loss=0.682]"
          ]
        },
        {
          "output_type": "stream",
          "name": "stdout",
          "text": [
            "Val batch 10/79\n"
          ]
        },
        {
          "output_type": "stream",
          "name": "stderr",
          "text": [
            "Val   7:  27%|██▋       | 21/79 [00:02<00:06,  9.43it/s, loss=0.696]"
          ]
        },
        {
          "output_type": "stream",
          "name": "stdout",
          "text": [
            "Val batch 20/79\n"
          ]
        },
        {
          "output_type": "stream",
          "name": "stderr",
          "text": [
            "Val   7:  39%|███▉      | 31/79 [00:03<00:04, 10.03it/s, loss=0.698]"
          ]
        },
        {
          "output_type": "stream",
          "name": "stdout",
          "text": [
            "Val batch 30/79\n"
          ]
        },
        {
          "output_type": "stream",
          "name": "stderr",
          "text": [
            "Val   7:  51%|█████     | 40/79 [00:04<00:04,  8.26it/s, loss=0.694]"
          ]
        },
        {
          "output_type": "stream",
          "name": "stdout",
          "text": [
            "Val batch 40/79\n"
          ]
        },
        {
          "output_type": "stream",
          "name": "stderr",
          "text": [
            "Val   7:  63%|██████▎   | 50/79 [00:05<00:03,  7.36it/s, loss=0.691]"
          ]
        },
        {
          "output_type": "stream",
          "name": "stdout",
          "text": [
            "Val batch 50/79\n"
          ]
        },
        {
          "output_type": "stream",
          "name": "stderr",
          "text": [
            "Val   7:  76%|███████▌  | 60/79 [00:07<00:02,  6.73it/s, loss=0.688]"
          ]
        },
        {
          "output_type": "stream",
          "name": "stdout",
          "text": [
            "Val batch 60/79\n"
          ]
        },
        {
          "output_type": "stream",
          "name": "stderr",
          "text": [
            "Val   7:  91%|█████████ | 72/79 [00:08<00:00,  8.48it/s, loss=0.692]"
          ]
        },
        {
          "output_type": "stream",
          "name": "stdout",
          "text": [
            "Val batch 70/79\n"
          ]
        },
        {
          "output_type": "stream",
          "name": "stderr",
          "text": [
            "Val   7: 100%|██████████| 79/79 [00:09<00:00,  8.51it/s, loss=0.69]\n"
          ]
        },
        {
          "output_type": "stream",
          "name": "stdout",
          "text": [
            "Epoch 7: train_loss=1.2931 train_acc=0.4522 train_f1=0.4520\n",
            "           val_loss=0.6903 val_acc=0.8274 val_f1=0.8257 roc_auc=0.9834874333333333\n",
            "Saved best_model.pth\n"
          ]
        },
        {
          "output_type": "stream",
          "name": "stderr",
          "text": [
            "Train 8:   0%|          | 0/391 [00:00<?, ?it/s]/tmp/ipython-input-2992429118.py:20: FutureWarning: `torch.cuda.amp.autocast(args...)` is deprecated. Please use `torch.amp.autocast('cuda', args...)` instead.\n",
            "  with torch.cuda.amp.autocast(enabled=(DEVICE == 'cuda')):\n",
            "Train 8: 100%|██████████| 391/391 [02:21<00:00,  2.76it/s, loss=1.23]\n",
            "Val   8:   0%|          | 0/79 [00:00<?, ?it/s]/tmp/ipython-input-647854894.py:17: FutureWarning: `torch.cuda.amp.autocast(args...)` is deprecated. Please use `torch.amp.autocast('cuda', args...)` instead.\n",
            "  with torch.cuda.amp.autocast(enabled=(DEVICE == 'cuda')):\n",
            "Val   8:   1%|▏         | 1/79 [00:00<00:19,  3.95it/s, loss=0.638]"
          ]
        },
        {
          "output_type": "stream",
          "name": "stdout",
          "text": [
            "Val batch 0/79\n"
          ]
        },
        {
          "output_type": "stream",
          "name": "stderr",
          "text": [
            "Val   8:  15%|█▌        | 12/79 [00:01<00:06,  9.79it/s, loss=0.598]"
          ]
        },
        {
          "output_type": "stream",
          "name": "stdout",
          "text": [
            "Val batch 10/79\n"
          ]
        },
        {
          "output_type": "stream",
          "name": "stderr",
          "text": [
            "Val   8:  27%|██▋       | 21/79 [00:02<00:06,  9.63it/s, loss=0.609]"
          ]
        },
        {
          "output_type": "stream",
          "name": "stdout",
          "text": [
            "Val batch 20/79\n"
          ]
        },
        {
          "output_type": "stream",
          "name": "stderr",
          "text": [
            "Val   8:  39%|███▉      | 31/79 [00:03<00:04, 10.24it/s, loss=0.614]"
          ]
        },
        {
          "output_type": "stream",
          "name": "stdout",
          "text": [
            "Val batch 30/79\n"
          ]
        },
        {
          "output_type": "stream",
          "name": "stderr",
          "text": [
            "Val   8:  53%|█████▎    | 42/79 [00:04<00:03,  9.79it/s, loss=0.612]"
          ]
        },
        {
          "output_type": "stream",
          "name": "stdout",
          "text": [
            "Val batch 40/79\n"
          ]
        },
        {
          "output_type": "stream",
          "name": "stderr",
          "text": [
            "Val   8:  63%|██████▎   | 50/79 [00:05<00:03,  9.33it/s, loss=0.608]"
          ]
        },
        {
          "output_type": "stream",
          "name": "stdout",
          "text": [
            "Val batch 50/79\n"
          ]
        },
        {
          "output_type": "stream",
          "name": "stderr",
          "text": [
            "Val   8:  78%|███████▊  | 62/79 [00:06<00:01,  9.47it/s, loss=0.604]"
          ]
        },
        {
          "output_type": "stream",
          "name": "stdout",
          "text": [
            "Val batch 60/79\n"
          ]
        },
        {
          "output_type": "stream",
          "name": "stderr",
          "text": [
            "Val   8:  89%|████████▊ | 70/79 [00:07<00:00,  9.22it/s, loss=0.607]"
          ]
        },
        {
          "output_type": "stream",
          "name": "stdout",
          "text": [
            "Val batch 70/79\n"
          ]
        },
        {
          "output_type": "stream",
          "name": "stderr",
          "text": [
            "Val   8: 100%|██████████| 79/79 [00:08<00:00,  9.51it/s, loss=0.604]\n"
          ]
        },
        {
          "output_type": "stream",
          "name": "stdout",
          "text": [
            "Epoch 8: train_loss=1.2298 train_acc=0.4616 train_f1=0.4612\n",
            "           val_loss=0.6041 val_acc=0.8472 val_f1=0.8462 roc_auc=0.9872403555555556\n",
            "Saved best_model.pth\n"
          ]
        },
        {
          "output_type": "stream",
          "name": "stderr",
          "text": [
            "Train 9:   0%|          | 0/391 [00:00<?, ?it/s]/tmp/ipython-input-2992429118.py:20: FutureWarning: `torch.cuda.amp.autocast(args...)` is deprecated. Please use `torch.amp.autocast('cuda', args...)` instead.\n",
            "  with torch.cuda.amp.autocast(enabled=(DEVICE == 'cuda')):\n",
            "Train 9: 100%|██████████| 391/391 [02:21<00:00,  2.76it/s, loss=1.16]\n",
            "Val   9:   0%|          | 0/79 [00:00<?, ?it/s]/tmp/ipython-input-647854894.py:17: FutureWarning: `torch.cuda.amp.autocast(args...)` is deprecated. Please use `torch.amp.autocast('cuda', args...)` instead.\n",
            "  with torch.cuda.amp.autocast(enabled=(DEVICE == 'cuda')):\n",
            "Val   9:   1%|▏         | 1/79 [00:00<00:31,  2.46it/s, loss=0.641]"
          ]
        },
        {
          "output_type": "stream",
          "name": "stdout",
          "text": [
            "Val batch 0/79\n"
          ]
        },
        {
          "output_type": "stream",
          "name": "stderr",
          "text": [
            "Val   9:  14%|█▍        | 11/79 [00:02<00:11,  5.75it/s, loss=0.592]"
          ]
        },
        {
          "output_type": "stream",
          "name": "stdout",
          "text": [
            "Val batch 10/79\n"
          ]
        },
        {
          "output_type": "stream",
          "name": "stderr",
          "text": [
            "Val   9:  27%|██▋       | 21/79 [00:03<00:06,  8.36it/s, loss=0.598]"
          ]
        },
        {
          "output_type": "stream",
          "name": "stdout",
          "text": [
            "Val batch 20/79\n"
          ]
        },
        {
          "output_type": "stream",
          "name": "stderr",
          "text": [
            "Val   9:  39%|███▉      | 31/79 [00:04<00:05,  9.50it/s, loss=0.599]"
          ]
        },
        {
          "output_type": "stream",
          "name": "stdout",
          "text": [
            "Val batch 30/79\n"
          ]
        },
        {
          "output_type": "stream",
          "name": "stderr",
          "text": [
            "Val   9:  52%|█████▏    | 41/79 [00:05<00:03, 10.25it/s, loss=0.599]"
          ]
        },
        {
          "output_type": "stream",
          "name": "stdout",
          "text": [
            "Val batch 40/79\n"
          ]
        },
        {
          "output_type": "stream",
          "name": "stderr",
          "text": [
            "Val   9:  65%|██████▍   | 51/79 [00:06<00:03,  9.06it/s, loss=0.594]"
          ]
        },
        {
          "output_type": "stream",
          "name": "stdout",
          "text": [
            "Val batch 50/79\n"
          ]
        },
        {
          "output_type": "stream",
          "name": "stderr",
          "text": [
            "Val   9:  77%|███████▋  | 61/79 [00:07<00:02,  8.71it/s, loss=0.594]"
          ]
        },
        {
          "output_type": "stream",
          "name": "stdout",
          "text": [
            "Val batch 60/79\n"
          ]
        },
        {
          "output_type": "stream",
          "name": "stderr",
          "text": [
            "Val   9:  91%|█████████ | 72/79 [00:08<00:00, 10.06it/s, loss=0.596]"
          ]
        },
        {
          "output_type": "stream",
          "name": "stdout",
          "text": [
            "Val batch 70/79\n"
          ]
        },
        {
          "output_type": "stream",
          "name": "stderr",
          "text": [
            "Val   9: 100%|██████████| 79/79 [00:09<00:00,  8.66it/s, loss=0.595]\n"
          ]
        },
        {
          "output_type": "stream",
          "name": "stdout",
          "text": [
            "Epoch 9: train_loss=1.1610 train_acc=0.4674 train_f1=0.4671\n",
            "           val_loss=0.5945 val_acc=0.8600 val_f1=0.8596 roc_auc=0.9879186777777778\n",
            "Saved best_model.pth\n"
          ]
        },
        {
          "output_type": "stream",
          "name": "stderr",
          "text": [
            "Train 10:   0%|          | 0/391 [00:00<?, ?it/s]/tmp/ipython-input-2992429118.py:20: FutureWarning: `torch.cuda.amp.autocast(args...)` is deprecated. Please use `torch.amp.autocast('cuda', args...)` instead.\n",
            "  with torch.cuda.amp.autocast(enabled=(DEVICE == 'cuda')):\n",
            "Train 10: 100%|██████████| 391/391 [02:21<00:00,  2.76it/s, loss=1.16]\n",
            "Val   10:   0%|          | 0/79 [00:00<?, ?it/s]/tmp/ipython-input-647854894.py:17: FutureWarning: `torch.cuda.amp.autocast(args...)` is deprecated. Please use `torch.amp.autocast('cuda', args...)` instead.\n",
            "  with torch.cuda.amp.autocast(enabled=(DEVICE == 'cuda')):\n",
            "Val   10:   1%|▏         | 1/79 [00:00<00:18,  4.25it/s, loss=0.619]"
          ]
        },
        {
          "output_type": "stream",
          "name": "stdout",
          "text": [
            "Val batch 0/79\n"
          ]
        },
        {
          "output_type": "stream",
          "name": "stderr",
          "text": [
            "Val   10:  14%|█▍        | 11/79 [00:01<00:07,  9.42it/s, loss=0.568]"
          ]
        },
        {
          "output_type": "stream",
          "name": "stdout",
          "text": [
            "Val batch 10/79\n"
          ]
        },
        {
          "output_type": "stream",
          "name": "stderr",
          "text": [
            "Val   10:  27%|██▋       | 21/79 [00:02<00:06,  9.05it/s, loss=0.577]"
          ]
        },
        {
          "output_type": "stream",
          "name": "stdout",
          "text": [
            "Val batch 20/79\n"
          ]
        },
        {
          "output_type": "stream",
          "name": "stderr",
          "text": [
            "Val   10:  39%|███▉      | 31/79 [00:03<00:07,  6.64it/s, loss=0.577]"
          ]
        },
        {
          "output_type": "stream",
          "name": "stdout",
          "text": [
            "Val batch 30/79\n"
          ]
        },
        {
          "output_type": "stream",
          "name": "stderr",
          "text": [
            "Val   10:  52%|█████▏    | 41/79 [00:05<00:05,  6.41it/s, loss=0.574]"
          ]
        },
        {
          "output_type": "stream",
          "name": "stdout",
          "text": [
            "Val batch 40/79\n"
          ]
        },
        {
          "output_type": "stream",
          "name": "stderr",
          "text": [
            "Val   10:  65%|██████▍   | 51/79 [00:06<00:03,  8.54it/s, loss=0.571]"
          ]
        },
        {
          "output_type": "stream",
          "name": "stdout",
          "text": [
            "Val batch 50/79\n"
          ]
        },
        {
          "output_type": "stream",
          "name": "stderr",
          "text": [
            "Val   10:  77%|███████▋  | 61/79 [00:07<00:01,  9.10it/s, loss=0.57]"
          ]
        },
        {
          "output_type": "stream",
          "name": "stdout",
          "text": [
            "Val batch 60/79\n"
          ]
        },
        {
          "output_type": "stream",
          "name": "stderr",
          "text": [
            "Val   10:  90%|████████▉ | 71/79 [00:08<00:00,  9.08it/s, loss=0.569]"
          ]
        },
        {
          "output_type": "stream",
          "name": "stdout",
          "text": [
            "Val batch 70/79\n"
          ]
        },
        {
          "output_type": "stream",
          "name": "stderr",
          "text": [
            "Val   10: 100%|██████████| 79/79 [00:09<00:00,  8.45it/s, loss=0.568]\n"
          ]
        },
        {
          "output_type": "stream",
          "name": "stdout",
          "text": [
            "Epoch 10: train_loss=1.1602 train_acc=0.4769 train_f1=0.4765\n",
            "           val_loss=0.5679 val_acc=0.8771 val_f1=0.8755 roc_auc=0.9903766944444445\n",
            "Saved best_model.pth\n"
          ]
        },
        {
          "output_type": "stream",
          "name": "stderr",
          "text": [
            "Train 11:   0%|          | 0/391 [00:00<?, ?it/s]/tmp/ipython-input-2992429118.py:20: FutureWarning: `torch.cuda.amp.autocast(args...)` is deprecated. Please use `torch.amp.autocast('cuda', args...)` instead.\n",
            "  with torch.cuda.amp.autocast(enabled=(DEVICE == 'cuda')):\n",
            "Train 11: 100%|██████████| 391/391 [02:21<00:00,  2.76it/s, loss=1.18]\n",
            "Val   11:   0%|          | 0/79 [00:00<?, ?it/s]/tmp/ipython-input-647854894.py:17: FutureWarning: `torch.cuda.amp.autocast(args...)` is deprecated. Please use `torch.amp.autocast('cuda', args...)` instead.\n",
            "  with torch.cuda.amp.autocast(enabled=(DEVICE == 'cuda')):\n",
            "Val   11:   1%|▏         | 1/79 [00:00<00:19,  3.98it/s, loss=0.519]"
          ]
        },
        {
          "output_type": "stream",
          "name": "stdout",
          "text": [
            "Val batch 0/79\n"
          ]
        },
        {
          "output_type": "stream",
          "name": "stderr",
          "text": [
            "Val   11:  13%|█▎        | 10/79 [00:01<00:07,  9.37it/s, loss=0.478]"
          ]
        },
        {
          "output_type": "stream",
          "name": "stdout",
          "text": [
            "Val batch 10/79\n"
          ]
        },
        {
          "output_type": "stream",
          "name": "stderr",
          "text": [
            "Val   11:  28%|██▊       | 22/79 [00:02<00:05,  9.51it/s, loss=0.491]"
          ]
        },
        {
          "output_type": "stream",
          "name": "stdout",
          "text": [
            "Val batch 20/79\n"
          ]
        },
        {
          "output_type": "stream",
          "name": "stderr",
          "text": [
            "Val   11:  38%|███▊      | 30/79 [00:03<00:05,  9.41it/s, loss=0.492]"
          ]
        },
        {
          "output_type": "stream",
          "name": "stdout",
          "text": [
            "Val batch 30/79\n"
          ]
        },
        {
          "output_type": "stream",
          "name": "stderr",
          "text": [
            "Val   11:  53%|█████▎    | 42/79 [00:04<00:03, 10.21it/s, loss=0.49]"
          ]
        },
        {
          "output_type": "stream",
          "name": "stdout",
          "text": [
            "Val batch 40/79\n"
          ]
        },
        {
          "output_type": "stream",
          "name": "stderr",
          "text": [
            "Val   11:  66%|██████▌   | 52/79 [00:05<00:02, 10.53it/s, loss=0.488]"
          ]
        },
        {
          "output_type": "stream",
          "name": "stdout",
          "text": [
            "Val batch 50/79\n"
          ]
        },
        {
          "output_type": "stream",
          "name": "stderr",
          "text": [
            "Val   11:  77%|███████▋  | 61/79 [00:07<00:02,  6.20it/s, loss=0.488]"
          ]
        },
        {
          "output_type": "stream",
          "name": "stdout",
          "text": [
            "Val batch 60/79\n"
          ]
        },
        {
          "output_type": "stream",
          "name": "stderr",
          "text": [
            "Val   11:  90%|████████▉ | 71/79 [00:08<00:01,  6.68it/s, loss=0.485]"
          ]
        },
        {
          "output_type": "stream",
          "name": "stdout",
          "text": [
            "Val batch 70/79\n"
          ]
        },
        {
          "output_type": "stream",
          "name": "stderr",
          "text": [
            "Val   11: 100%|██████████| 79/79 [00:09<00:00,  8.59it/s, loss=0.484]\n"
          ]
        },
        {
          "output_type": "stream",
          "name": "stdout",
          "text": [
            "Epoch 11: train_loss=1.1809 train_acc=0.4672 train_f1=0.4669\n",
            "           val_loss=0.4844 val_acc=0.8906 val_f1=0.8903 roc_auc=0.9924907999999999\n",
            "Saved best_model.pth\n"
          ]
        },
        {
          "output_type": "stream",
          "name": "stderr",
          "text": [
            "Train 12:   0%|          | 0/391 [00:00<?, ?it/s]/tmp/ipython-input-2992429118.py:20: FutureWarning: `torch.cuda.amp.autocast(args...)` is deprecated. Please use `torch.amp.autocast('cuda', args...)` instead.\n",
            "  with torch.cuda.amp.autocast(enabled=(DEVICE == 'cuda')):\n",
            "Train 12: 100%|██████████| 391/391 [02:20<00:00,  2.78it/s, loss=1.16]\n",
            "Val   12:   0%|          | 0/79 [00:00<?, ?it/s]/tmp/ipython-input-647854894.py:17: FutureWarning: `torch.cuda.amp.autocast(args...)` is deprecated. Please use `torch.amp.autocast('cuda', args...)` instead.\n",
            "  with torch.cuda.amp.autocast(enabled=(DEVICE == 'cuda')):\n",
            "Val   12:   1%|▏         | 1/79 [00:00<00:17,  4.42it/s, loss=0.508]"
          ]
        },
        {
          "output_type": "stream",
          "name": "stdout",
          "text": [
            "Val batch 0/79\n"
          ]
        },
        {
          "output_type": "stream",
          "name": "stderr",
          "text": [
            "Val   12:  14%|█▍        | 11/79 [00:01<00:07,  9.02it/s, loss=0.46]"
          ]
        },
        {
          "output_type": "stream",
          "name": "stdout",
          "text": [
            "Val batch 10/79\n"
          ]
        },
        {
          "output_type": "stream",
          "name": "stderr",
          "text": [
            "Val   12:  27%|██▋       | 21/79 [00:02<00:06,  9.19it/s, loss=0.475]"
          ]
        },
        {
          "output_type": "stream",
          "name": "stdout",
          "text": [
            "Val batch 20/79\n"
          ]
        },
        {
          "output_type": "stream",
          "name": "stderr",
          "text": [
            "Val   12:  39%|███▉      | 31/79 [00:03<00:05,  9.57it/s, loss=0.477]"
          ]
        },
        {
          "output_type": "stream",
          "name": "stdout",
          "text": [
            "Val batch 30/79\n"
          ]
        },
        {
          "output_type": "stream",
          "name": "stderr",
          "text": [
            "Val   12:  52%|█████▏    | 41/79 [00:04<00:03,  9.57it/s, loss=0.475]"
          ]
        },
        {
          "output_type": "stream",
          "name": "stdout",
          "text": [
            "Val batch 40/79\n"
          ]
        },
        {
          "output_type": "stream",
          "name": "stderr",
          "text": [
            "Val   12:  65%|██████▍   | 51/79 [00:05<00:02, 10.25it/s, loss=0.47] "
          ]
        },
        {
          "output_type": "stream",
          "name": "stdout",
          "text": [
            "Val batch 50/79\n"
          ]
        },
        {
          "output_type": "stream",
          "name": "stderr",
          "text": [
            "Val   12:  77%|███████▋  | 61/79 [00:06<00:01,  9.42it/s, loss=0.47] "
          ]
        },
        {
          "output_type": "stream",
          "name": "stdout",
          "text": [
            "Val batch 60/79\n"
          ]
        },
        {
          "output_type": "stream",
          "name": "stderr",
          "text": [
            "Val   12:  90%|████████▉ | 71/79 [00:07<00:00,  9.27it/s, loss=0.467]"
          ]
        },
        {
          "output_type": "stream",
          "name": "stdout",
          "text": [
            "Val batch 70/79\n"
          ]
        },
        {
          "output_type": "stream",
          "name": "stderr",
          "text": [
            "Val   12: 100%|██████████| 79/79 [00:08<00:00,  9.54it/s, loss=0.466]\n"
          ]
        },
        {
          "output_type": "stream",
          "name": "stdout",
          "text": [
            "Epoch 12: train_loss=1.1628 train_acc=0.4809 train_f1=0.4804\n",
            "           val_loss=0.4665 val_acc=0.8940 val_f1=0.8932 roc_auc=0.9931634833333334\n",
            "Saved best_model.pth\n"
          ]
        },
        {
          "output_type": "stream",
          "name": "stderr",
          "text": [
            "Train 13:   0%|          | 0/391 [00:00<?, ?it/s]/tmp/ipython-input-2992429118.py:20: FutureWarning: `torch.cuda.amp.autocast(args...)` is deprecated. Please use `torch.amp.autocast('cuda', args...)` instead.\n",
            "  with torch.cuda.amp.autocast(enabled=(DEVICE == 'cuda')):\n",
            "Train 13: 100%|██████████| 391/391 [02:21<00:00,  2.77it/s, loss=1.11]\n",
            "Val   13:   0%|          | 0/79 [00:00<?, ?it/s]/tmp/ipython-input-647854894.py:17: FutureWarning: `torch.cuda.amp.autocast(args...)` is deprecated. Please use `torch.amp.autocast('cuda', args...)` instead.\n",
            "  with torch.cuda.amp.autocast(enabled=(DEVICE == 'cuda')):\n",
            "Val   13:   1%|▏         | 1/79 [00:00<00:18,  4.28it/s, loss=0.522]"
          ]
        },
        {
          "output_type": "stream",
          "name": "stdout",
          "text": [
            "Val batch 0/79\n"
          ]
        },
        {
          "output_type": "stream",
          "name": "stderr",
          "text": [
            "Val   13:  15%|█▌        | 12/79 [00:01<00:06,  9.94it/s, loss=0.474]"
          ]
        },
        {
          "output_type": "stream",
          "name": "stdout",
          "text": [
            "Val batch 10/79\n"
          ]
        },
        {
          "output_type": "stream",
          "name": "stderr",
          "text": [
            "Val   13:  27%|██▋       | 21/79 [00:02<00:08,  6.54it/s, loss=0.481]"
          ]
        },
        {
          "output_type": "stream",
          "name": "stdout",
          "text": [
            "Val batch 20/79\n"
          ]
        },
        {
          "output_type": "stream",
          "name": "stderr",
          "text": [
            "Val   13:  39%|███▉      | 31/79 [00:04<00:06,  6.96it/s, loss=0.486]"
          ]
        },
        {
          "output_type": "stream",
          "name": "stdout",
          "text": [
            "Val batch 30/79\n"
          ]
        },
        {
          "output_type": "stream",
          "name": "stderr",
          "text": [
            "Val   13:  51%|█████     | 40/79 [00:05<00:04,  8.41it/s, loss=0.485]"
          ]
        },
        {
          "output_type": "stream",
          "name": "stdout",
          "text": [
            "Val batch 40/79\n"
          ]
        },
        {
          "output_type": "stream",
          "name": "stderr",
          "text": [
            "Val   13:  63%|██████▎   | 50/79 [00:06<00:03,  9.22it/s, loss=0.48] "
          ]
        },
        {
          "output_type": "stream",
          "name": "stdout",
          "text": [
            "Val batch 50/79\n"
          ]
        },
        {
          "output_type": "stream",
          "name": "stderr",
          "text": [
            "Val   13:  76%|███████▌  | 60/79 [00:07<00:02,  9.26it/s, loss=0.48]"
          ]
        },
        {
          "output_type": "stream",
          "name": "stdout",
          "text": [
            "Val batch 60/79\n"
          ]
        },
        {
          "output_type": "stream",
          "name": "stderr",
          "text": [
            "Val   13:  91%|█████████ | 72/79 [00:08<00:00,  9.81it/s, loss=0.478]"
          ]
        },
        {
          "output_type": "stream",
          "name": "stdout",
          "text": [
            "Val batch 70/79\n"
          ]
        },
        {
          "output_type": "stream",
          "name": "stderr",
          "text": [
            "Val   13: 100%|██████████| 79/79 [00:09<00:00,  8.44it/s, loss=0.477]\n"
          ]
        },
        {
          "output_type": "stream",
          "name": "stdout",
          "text": [
            "Epoch 13: train_loss=1.1126 train_acc=0.4648 train_f1=0.4645\n",
            "           val_loss=0.4772 val_acc=0.8979 val_f1=0.8971 roc_auc=0.9930574333333334\n",
            "Saved best_model.pth\n"
          ]
        },
        {
          "output_type": "stream",
          "name": "stderr",
          "text": [
            "Train 14:   0%|          | 0/391 [00:00<?, ?it/s]/tmp/ipython-input-2992429118.py:20: FutureWarning: `torch.cuda.amp.autocast(args...)` is deprecated. Please use `torch.amp.autocast('cuda', args...)` instead.\n",
            "  with torch.cuda.amp.autocast(enabled=(DEVICE == 'cuda')):\n",
            "Train 14: 100%|██████████| 391/391 [02:21<00:00,  2.77it/s, loss=1.09]\n",
            "Val   14:   0%|          | 0/79 [00:00<?, ?it/s]/tmp/ipython-input-647854894.py:17: FutureWarning: `torch.cuda.amp.autocast(args...)` is deprecated. Please use `torch.amp.autocast('cuda', args...)` instead.\n",
            "  with torch.cuda.amp.autocast(enabled=(DEVICE == 'cuda')):\n",
            "Val   14:   1%|▏         | 1/79 [00:00<00:19,  4.01it/s, loss=0.505]"
          ]
        },
        {
          "output_type": "stream",
          "name": "stdout",
          "text": [
            "Val batch 0/79\n"
          ]
        },
        {
          "output_type": "stream",
          "name": "stderr",
          "text": [
            "Val   14:  14%|█▍        | 11/79 [00:01<00:07,  9.55it/s, loss=0.445]"
          ]
        },
        {
          "output_type": "stream",
          "name": "stdout",
          "text": [
            "Val batch 10/79\n"
          ]
        },
        {
          "output_type": "stream",
          "name": "stderr",
          "text": [
            "Val   14:  27%|██▋       | 21/79 [00:02<00:05, 10.11it/s, loss=0.453]"
          ]
        },
        {
          "output_type": "stream",
          "name": "stdout",
          "text": [
            "Val batch 20/79\n"
          ]
        },
        {
          "output_type": "stream",
          "name": "stderr",
          "text": [
            "Val   14:  39%|███▉      | 31/79 [00:03<00:05,  9.34it/s, loss=0.456]"
          ]
        },
        {
          "output_type": "stream",
          "name": "stdout",
          "text": [
            "Val batch 30/79\n"
          ]
        },
        {
          "output_type": "stream",
          "name": "stderr",
          "text": [
            "Val   14:  52%|█████▏    | 41/79 [00:04<00:03,  9.60it/s, loss=0.454]"
          ]
        },
        {
          "output_type": "stream",
          "name": "stdout",
          "text": [
            "Val batch 40/79\n"
          ]
        },
        {
          "output_type": "stream",
          "name": "stderr",
          "text": [
            "Val   14:  65%|██████▍   | 51/79 [00:05<00:03,  7.67it/s, loss=0.45]"
          ]
        },
        {
          "output_type": "stream",
          "name": "stdout",
          "text": [
            "Val batch 50/79\n"
          ]
        },
        {
          "output_type": "stream",
          "name": "stderr",
          "text": [
            "Val   14:  77%|███████▋  | 61/79 [00:07<00:02,  6.62it/s, loss=0.451]"
          ]
        },
        {
          "output_type": "stream",
          "name": "stdout",
          "text": [
            "Val batch 60/79\n"
          ]
        },
        {
          "output_type": "stream",
          "name": "stderr",
          "text": [
            "Val   14:  91%|█████████ | 72/79 [00:08<00:00,  8.42it/s, loss=0.449]"
          ]
        },
        {
          "output_type": "stream",
          "name": "stdout",
          "text": [
            "Val batch 70/79\n"
          ]
        },
        {
          "output_type": "stream",
          "name": "stderr",
          "text": [
            "Val   14: 100%|██████████| 79/79 [00:09<00:00,  8.54it/s, loss=0.448]\n"
          ]
        },
        {
          "output_type": "stream",
          "name": "stdout",
          "text": [
            "Epoch 14: train_loss=1.0925 train_acc=0.4432 train_f1=0.4429\n",
            "           val_loss=0.4484 val_acc=0.9053 val_f1=0.9050 roc_auc=0.9940437888888889\n",
            "Saved best_model.pth\n"
          ]
        },
        {
          "output_type": "stream",
          "name": "stderr",
          "text": [
            "Train 15:   0%|          | 0/391 [00:00<?, ?it/s]/tmp/ipython-input-2992429118.py:20: FutureWarning: `torch.cuda.amp.autocast(args...)` is deprecated. Please use `torch.amp.autocast('cuda', args...)` instead.\n",
            "  with torch.cuda.amp.autocast(enabled=(DEVICE == 'cuda')):\n",
            "Train 15: 100%|██████████| 391/391 [02:20<00:00,  2.78it/s, loss=1.05]\n",
            "Val   15:   0%|          | 0/79 [00:00<?, ?it/s]/tmp/ipython-input-647854894.py:17: FutureWarning: `torch.cuda.amp.autocast(args...)` is deprecated. Please use `torch.amp.autocast('cuda', args...)` instead.\n",
            "  with torch.cuda.amp.autocast(enabled=(DEVICE == 'cuda')):\n",
            "Val   15:   1%|▏         | 1/79 [00:00<00:18,  4.12it/s, loss=0.479]"
          ]
        },
        {
          "output_type": "stream",
          "name": "stdout",
          "text": [
            "Val batch 0/79\n"
          ]
        },
        {
          "output_type": "stream",
          "name": "stderr",
          "text": [
            "Val   15:  14%|█▍        | 11/79 [00:01<00:06, 10.22it/s, loss=0.418]"
          ]
        },
        {
          "output_type": "stream",
          "name": "stdout",
          "text": [
            "Val batch 10/79\n"
          ]
        },
        {
          "output_type": "stream",
          "name": "stderr",
          "text": [
            "Val   15:  28%|██▊       | 22/79 [00:02<00:06,  9.08it/s, loss=0.428]"
          ]
        },
        {
          "output_type": "stream",
          "name": "stdout",
          "text": [
            "Val batch 20/79\n"
          ]
        },
        {
          "output_type": "stream",
          "name": "stderr",
          "text": [
            "Val   15:  41%|████      | 32/79 [00:03<00:04,  9.74it/s, loss=0.431]"
          ]
        },
        {
          "output_type": "stream",
          "name": "stdout",
          "text": [
            "Val batch 30/79\n"
          ]
        },
        {
          "output_type": "stream",
          "name": "stderr",
          "text": [
            "Val   15:  53%|█████▎    | 42/79 [00:04<00:03,  9.45it/s, loss=0.428]"
          ]
        },
        {
          "output_type": "stream",
          "name": "stdout",
          "text": [
            "Val batch 40/79\n"
          ]
        },
        {
          "output_type": "stream",
          "name": "stderr",
          "text": [
            "Val   15:  66%|██████▌   | 52/79 [00:05<00:02, 10.34it/s, loss=0.424]"
          ]
        },
        {
          "output_type": "stream",
          "name": "stdout",
          "text": [
            "Val batch 50/79\n"
          ]
        },
        {
          "output_type": "stream",
          "name": "stderr",
          "text": [
            "Val   15:  77%|███████▋  | 61/79 [00:06<00:01,  9.02it/s, loss=0.426]"
          ]
        },
        {
          "output_type": "stream",
          "name": "stdout",
          "text": [
            "Val batch 60/79\n"
          ]
        },
        {
          "output_type": "stream",
          "name": "stderr",
          "text": [
            "Val   15:  90%|████████▉ | 71/79 [00:07<00:00,  9.33it/s, loss=0.423]"
          ]
        },
        {
          "output_type": "stream",
          "name": "stdout",
          "text": [
            "Val batch 70/79\n"
          ]
        },
        {
          "output_type": "stream",
          "name": "stderr",
          "text": [
            "Val   15: 100%|██████████| 79/79 [00:08<00:00,  9.66it/s, loss=0.423]\n"
          ]
        },
        {
          "output_type": "stream",
          "name": "stdout",
          "text": [
            "Epoch 15: train_loss=1.0497 train_acc=0.4938 train_f1=0.4934\n",
            "           val_loss=0.4226 val_acc=0.9075 val_f1=0.9067 roc_auc=0.9946214444444443\n",
            "Saved best_model.pth\n"
          ]
        },
        {
          "output_type": "stream",
          "name": "stderr",
          "text": [
            "Train 16:   0%|          | 0/391 [00:00<?, ?it/s]/tmp/ipython-input-2992429118.py:20: FutureWarning: `torch.cuda.amp.autocast(args...)` is deprecated. Please use `torch.amp.autocast('cuda', args...)` instead.\n",
            "  with torch.cuda.amp.autocast(enabled=(DEVICE == 'cuda')):\n",
            "Train 16: 100%|██████████| 391/391 [02:20<00:00,  2.78it/s, loss=1.02]\n",
            "Val   16:   0%|          | 0/79 [00:00<?, ?it/s]/tmp/ipython-input-647854894.py:17: FutureWarning: `torch.cuda.amp.autocast(args...)` is deprecated. Please use `torch.amp.autocast('cuda', args...)` instead.\n",
            "  with torch.cuda.amp.autocast(enabled=(DEVICE == 'cuda')):\n",
            "Val   16:   1%|▏         | 1/79 [00:00<00:17,  4.42it/s, loss=0.435]"
          ]
        },
        {
          "output_type": "stream",
          "name": "stdout",
          "text": [
            "Val batch 0/79\n"
          ]
        },
        {
          "output_type": "stream",
          "name": "stderr",
          "text": [
            "Val   16:  14%|█▍        | 11/79 [00:01<00:07,  8.83it/s, loss=0.375]"
          ]
        },
        {
          "output_type": "stream",
          "name": "stdout",
          "text": [
            "Val batch 10/79\n"
          ]
        },
        {
          "output_type": "stream",
          "name": "stderr",
          "text": [
            "Val   16:  27%|██▋       | 21/79 [00:02<00:07,  7.26it/s, loss=0.383]"
          ]
        },
        {
          "output_type": "stream",
          "name": "stdout",
          "text": [
            "Val batch 20/79\n"
          ]
        },
        {
          "output_type": "stream",
          "name": "stderr",
          "text": [
            "Val   16:  39%|███▉      | 31/79 [00:04<00:07,  6.23it/s, loss=0.386]"
          ]
        },
        {
          "output_type": "stream",
          "name": "stdout",
          "text": [
            "Val batch 30/79\n"
          ]
        },
        {
          "output_type": "stream",
          "name": "stderr",
          "text": [
            "Val   16:  52%|█████▏    | 41/79 [00:05<00:04,  8.23it/s, loss=0.384]"
          ]
        },
        {
          "output_type": "stream",
          "name": "stdout",
          "text": [
            "Val batch 40/79\n"
          ]
        },
        {
          "output_type": "stream",
          "name": "stderr",
          "text": [
            "Val   16:  65%|██████▍   | 51/79 [00:06<00:03,  9.12it/s, loss=0.379]"
          ]
        },
        {
          "output_type": "stream",
          "name": "stdout",
          "text": [
            "Val batch 50/79\n"
          ]
        },
        {
          "output_type": "stream",
          "name": "stderr",
          "text": [
            "Val   16:  77%|███████▋  | 61/79 [00:07<00:01,  9.37it/s, loss=0.381]"
          ]
        },
        {
          "output_type": "stream",
          "name": "stdout",
          "text": [
            "Val batch 60/79\n"
          ]
        },
        {
          "output_type": "stream",
          "name": "stderr",
          "text": [
            "Val   16:  90%|████████▉ | 71/79 [00:08<00:00,  9.26it/s, loss=0.377]"
          ]
        },
        {
          "output_type": "stream",
          "name": "stdout",
          "text": [
            "Val batch 70/79\n"
          ]
        },
        {
          "output_type": "stream",
          "name": "stderr",
          "text": [
            "Val   16: 100%|██████████| 79/79 [00:09<00:00,  8.40it/s, loss=0.377]\n"
          ]
        },
        {
          "output_type": "stream",
          "name": "stdout",
          "text": [
            "Epoch 16: train_loss=1.0218 train_acc=0.5101 train_f1=0.5099\n",
            "           val_loss=0.3774 val_acc=0.9162 val_f1=0.9157 roc_auc=0.9952564333333335\n",
            "Saved best_model.pth\n"
          ]
        },
        {
          "output_type": "stream",
          "name": "stderr",
          "text": [
            "Train 17:   0%|          | 0/391 [00:00<?, ?it/s]/tmp/ipython-input-2992429118.py:20: FutureWarning: `torch.cuda.amp.autocast(args...)` is deprecated. Please use `torch.amp.autocast('cuda', args...)` instead.\n",
            "  with torch.cuda.amp.autocast(enabled=(DEVICE == 'cuda')):\n",
            "Train 17: 100%|██████████| 391/391 [02:21<00:00,  2.77it/s, loss=1.1]\n",
            "Val   17:   0%|          | 0/79 [00:00<?, ?it/s]/tmp/ipython-input-647854894.py:17: FutureWarning: `torch.cuda.amp.autocast(args...)` is deprecated. Please use `torch.amp.autocast('cuda', args...)` instead.\n",
            "  with torch.cuda.amp.autocast(enabled=(DEVICE == 'cuda')):\n",
            "Val   17:   1%|▏         | 1/79 [00:00<00:19,  3.94it/s, loss=0.486]"
          ]
        },
        {
          "output_type": "stream",
          "name": "stdout",
          "text": [
            "Val batch 0/79\n"
          ]
        },
        {
          "output_type": "stream",
          "name": "stderr",
          "text": [
            "Val   17:  14%|█▍        | 11/79 [00:01<00:06,  9.72it/s, loss=0.429]"
          ]
        },
        {
          "output_type": "stream",
          "name": "stdout",
          "text": [
            "Val batch 10/79\n"
          ]
        },
        {
          "output_type": "stream",
          "name": "stderr",
          "text": [
            "Val   17:  27%|██▋       | 21/79 [00:02<00:06,  9.43it/s, loss=0.438]"
          ]
        },
        {
          "output_type": "stream",
          "name": "stdout",
          "text": [
            "Val batch 20/79\n"
          ]
        },
        {
          "output_type": "stream",
          "name": "stderr",
          "text": [
            "Val   17:  39%|███▉      | 31/79 [00:03<00:04,  9.87it/s, loss=0.441]"
          ]
        },
        {
          "output_type": "stream",
          "name": "stdout",
          "text": [
            "Val batch 30/79\n"
          ]
        },
        {
          "output_type": "stream",
          "name": "stderr",
          "text": [
            "Val   17:  52%|█████▏    | 41/79 [00:04<00:03,  9.64it/s, loss=0.439]"
          ]
        },
        {
          "output_type": "stream",
          "name": "stdout",
          "text": [
            "Val batch 40/79\n"
          ]
        },
        {
          "output_type": "stream",
          "name": "stderr",
          "text": [
            "Val   17:  65%|██████▍   | 51/79 [00:05<00:02, 10.85it/s, loss=0.435]"
          ]
        },
        {
          "output_type": "stream",
          "name": "stdout",
          "text": [
            "Val batch 50/79\n"
          ]
        },
        {
          "output_type": "stream",
          "name": "stderr",
          "text": [
            "Val   17:  78%|███████▊  | 62/79 [00:06<00:02,  6.88it/s, loss=0.437]"
          ]
        },
        {
          "output_type": "stream",
          "name": "stdout",
          "text": [
            "Val batch 60/79\n"
          ]
        },
        {
          "output_type": "stream",
          "name": "stderr",
          "text": [
            "Val   17:  90%|████████▉ | 71/79 [00:08<00:01,  5.67it/s, loss=0.434]"
          ]
        },
        {
          "output_type": "stream",
          "name": "stdout",
          "text": [
            "Val batch 70/79\n"
          ]
        },
        {
          "output_type": "stream",
          "name": "stderr",
          "text": [
            "Val   17: 100%|██████████| 79/79 [00:09<00:00,  8.56it/s, loss=0.434]\n"
          ]
        },
        {
          "output_type": "stream",
          "name": "stdout",
          "text": [
            "Epoch 17: train_loss=1.0979 train_acc=0.4847 train_f1=0.4843\n",
            "           val_loss=0.4335 val_acc=0.9130 val_f1=0.9125 roc_auc=0.9947193222222221\n"
          ]
        },
        {
          "output_type": "stream",
          "name": "stderr",
          "text": [
            "Train 18:   0%|          | 0/391 [00:00<?, ?it/s]/tmp/ipython-input-2992429118.py:20: FutureWarning: `torch.cuda.amp.autocast(args...)` is deprecated. Please use `torch.amp.autocast('cuda', args...)` instead.\n",
            "  with torch.cuda.amp.autocast(enabled=(DEVICE == 'cuda')):\n",
            "Train 18: 100%|██████████| 391/391 [02:21<00:00,  2.76it/s, loss=1.08]\n",
            "Val   18:   0%|          | 0/79 [00:00<?, ?it/s]/tmp/ipython-input-647854894.py:17: FutureWarning: `torch.cuda.amp.autocast(args...)` is deprecated. Please use `torch.amp.autocast('cuda', args...)` instead.\n",
            "  with torch.cuda.amp.autocast(enabled=(DEVICE == 'cuda')):\n",
            "Val   18:   1%|▏         | 1/79 [00:00<00:19,  4.09it/s, loss=0.472]"
          ]
        },
        {
          "output_type": "stream",
          "name": "stdout",
          "text": [
            "Val batch 0/79\n"
          ]
        },
        {
          "output_type": "stream",
          "name": "stderr",
          "text": [
            "Val   18:  14%|█▍        | 11/79 [00:01<00:07,  8.93it/s, loss=0.423]"
          ]
        },
        {
          "output_type": "stream",
          "name": "stdout",
          "text": [
            "Val batch 10/79\n"
          ]
        },
        {
          "output_type": "stream",
          "name": "stderr",
          "text": [
            "Val   18:  27%|██▋       | 21/79 [00:02<00:06,  9.18it/s, loss=0.432]"
          ]
        },
        {
          "output_type": "stream",
          "name": "stdout",
          "text": [
            "Val batch 20/79\n"
          ]
        },
        {
          "output_type": "stream",
          "name": "stderr",
          "text": [
            "Val   18:  39%|███▉      | 31/79 [00:03<00:05,  8.39it/s, loss=0.436]"
          ]
        },
        {
          "output_type": "stream",
          "name": "stdout",
          "text": [
            "Val batch 30/79\n"
          ]
        },
        {
          "output_type": "stream",
          "name": "stderr",
          "text": [
            "Val   18:  52%|█████▏    | 41/79 [00:04<00:03,  9.99it/s, loss=0.434]"
          ]
        },
        {
          "output_type": "stream",
          "name": "stdout",
          "text": [
            "Val batch 40/79\n"
          ]
        },
        {
          "output_type": "stream",
          "name": "stderr",
          "text": [
            "Val   18:  65%|██████▍   | 51/79 [00:05<00:02,  9.90it/s, loss=0.431]"
          ]
        },
        {
          "output_type": "stream",
          "name": "stdout",
          "text": [
            "Val batch 50/79\n"
          ]
        },
        {
          "output_type": "stream",
          "name": "stderr",
          "text": [
            "Val   18:  78%|███████▊  | 62/79 [00:06<00:01,  8.90it/s, loss=0.432]"
          ]
        },
        {
          "output_type": "stream",
          "name": "stdout",
          "text": [
            "Val batch 60/79\n"
          ]
        },
        {
          "output_type": "stream",
          "name": "stderr",
          "text": [
            "Val   18:  90%|████████▉ | 71/79 [00:07<00:00,  8.68it/s, loss=0.429]"
          ]
        },
        {
          "output_type": "stream",
          "name": "stdout",
          "text": [
            "Val batch 70/79\n"
          ]
        },
        {
          "output_type": "stream",
          "name": "stderr",
          "text": [
            "Val   18: 100%|██████████| 79/79 [00:08<00:00,  9.34it/s, loss=0.43]\n"
          ]
        },
        {
          "output_type": "stream",
          "name": "stdout",
          "text": [
            "Epoch 18: train_loss=1.0760 train_acc=0.4547 train_f1=0.4544\n",
            "           val_loss=0.4295 val_acc=0.9162 val_f1=0.9161 roc_auc=0.9949911333333332\n",
            "Saved best_model.pth\n"
          ]
        },
        {
          "output_type": "stream",
          "name": "stderr",
          "text": [
            "Train 19:   0%|          | 0/391 [00:00<?, ?it/s]/tmp/ipython-input-2992429118.py:20: FutureWarning: `torch.cuda.amp.autocast(args...)` is deprecated. Please use `torch.amp.autocast('cuda', args...)` instead.\n",
            "  with torch.cuda.amp.autocast(enabled=(DEVICE == 'cuda')):\n",
            "Train 19: 100%|██████████| 391/391 [02:21<00:00,  2.77it/s, loss=1.07]\n",
            "Val   19:   0%|          | 0/79 [00:00<?, ?it/s]/tmp/ipython-input-647854894.py:17: FutureWarning: `torch.cuda.amp.autocast(args...)` is deprecated. Please use `torch.amp.autocast('cuda', args...)` instead.\n",
            "  with torch.cuda.amp.autocast(enabled=(DEVICE == 'cuda')):\n",
            "Val   19:   1%|▏         | 1/79 [00:00<00:18,  4.22it/s, loss=0.43] "
          ]
        },
        {
          "output_type": "stream",
          "name": "stdout",
          "text": [
            "Val batch 0/79\n"
          ]
        },
        {
          "output_type": "stream",
          "name": "stderr",
          "text": [
            "Val   19:  14%|█▍        | 11/79 [00:01<00:07,  8.90it/s, loss=0.376]"
          ]
        },
        {
          "output_type": "stream",
          "name": "stdout",
          "text": [
            "Val batch 10/79\n"
          ]
        },
        {
          "output_type": "stream",
          "name": "stderr",
          "text": [
            "Val   19:  27%|██▋       | 21/79 [00:02<00:06,  8.38it/s, loss=0.386]"
          ]
        },
        {
          "output_type": "stream",
          "name": "stdout",
          "text": [
            "Val batch 20/79\n"
          ]
        },
        {
          "output_type": "stream",
          "name": "stderr",
          "text": [
            "Val   19:  39%|███▉      | 31/79 [00:04<00:07,  6.35it/s, loss=0.389]"
          ]
        },
        {
          "output_type": "stream",
          "name": "stdout",
          "text": [
            "Val batch 30/79\n"
          ]
        },
        {
          "output_type": "stream",
          "name": "stderr",
          "text": [
            "Val   19:  52%|█████▏    | 41/79 [00:05<00:04,  7.88it/s, loss=0.388]"
          ]
        },
        {
          "output_type": "stream",
          "name": "stdout",
          "text": [
            "Val batch 40/79\n"
          ]
        },
        {
          "output_type": "stream",
          "name": "stderr",
          "text": [
            "Val   19:  65%|██████▍   | 51/79 [00:06<00:03,  8.95it/s, loss=0.384]"
          ]
        },
        {
          "output_type": "stream",
          "name": "stdout",
          "text": [
            "Val batch 50/79\n"
          ]
        },
        {
          "output_type": "stream",
          "name": "stderr",
          "text": [
            "Val   19:  77%|███████▋  | 61/79 [00:07<00:01,  9.31it/s, loss=0.386]"
          ]
        },
        {
          "output_type": "stream",
          "name": "stdout",
          "text": [
            "Val batch 60/79\n"
          ]
        },
        {
          "output_type": "stream",
          "name": "stderr",
          "text": [
            "Val   19:  90%|████████▉ | 71/79 [00:08<00:00,  9.38it/s, loss=0.383]"
          ]
        },
        {
          "output_type": "stream",
          "name": "stdout",
          "text": [
            "Val batch 70/79\n"
          ]
        },
        {
          "output_type": "stream",
          "name": "stderr",
          "text": [
            "Val   19: 100%|██████████| 79/79 [00:09<00:00,  8.40it/s, loss=0.383]\n"
          ]
        },
        {
          "output_type": "stream",
          "name": "stdout",
          "text": [
            "Epoch 19: train_loss=1.0701 train_acc=0.5042 train_f1=0.5039\n",
            "           val_loss=0.3829 val_acc=0.9213 val_f1=0.9209 roc_auc=0.9957584\n",
            "Saved best_model.pth\n"
          ]
        },
        {
          "output_type": "stream",
          "name": "stderr",
          "text": [
            "Train 20:   0%|          | 0/391 [00:00<?, ?it/s]/tmp/ipython-input-2992429118.py:20: FutureWarning: `torch.cuda.amp.autocast(args...)` is deprecated. Please use `torch.amp.autocast('cuda', args...)` instead.\n",
            "  with torch.cuda.amp.autocast(enabled=(DEVICE == 'cuda')):\n",
            "Train 20: 100%|██████████| 391/391 [02:21<00:00,  2.77it/s, loss=1.05]\n",
            "Val   20:   0%|          | 0/79 [00:00<?, ?it/s]/tmp/ipython-input-647854894.py:17: FutureWarning: `torch.cuda.amp.autocast(args...)` is deprecated. Please use `torch.amp.autocast('cuda', args...)` instead.\n",
            "  with torch.cuda.amp.autocast(enabled=(DEVICE == 'cuda')):\n",
            "Val   20:   4%|▍         | 3/79 [00:00<00:08,  8.88it/s, loss=0.403]"
          ]
        },
        {
          "output_type": "stream",
          "name": "stdout",
          "text": [
            "Val batch 0/79\n"
          ]
        },
        {
          "output_type": "stream",
          "name": "stderr",
          "text": [
            "Val   20:  14%|█▍        | 11/79 [00:01<00:07,  9.10it/s, loss=0.361]"
          ]
        },
        {
          "output_type": "stream",
          "name": "stdout",
          "text": [
            "Val batch 10/79\n"
          ]
        },
        {
          "output_type": "stream",
          "name": "stderr",
          "text": [
            "Val   20:  28%|██▊       | 22/79 [00:02<00:05,  9.64it/s, loss=0.37]"
          ]
        },
        {
          "output_type": "stream",
          "name": "stdout",
          "text": [
            "Val batch 20/79\n"
          ]
        },
        {
          "output_type": "stream",
          "name": "stderr",
          "text": [
            "Val   20:  39%|███▉      | 31/79 [00:03<00:05,  9.29it/s, loss=0.373]"
          ]
        },
        {
          "output_type": "stream",
          "name": "stdout",
          "text": [
            "Val batch 30/79\n"
          ]
        },
        {
          "output_type": "stream",
          "name": "stderr",
          "text": [
            "Val   20:  52%|█████▏    | 41/79 [00:04<00:04,  9.18it/s, loss=0.371]"
          ]
        },
        {
          "output_type": "stream",
          "name": "stdout",
          "text": [
            "Val batch 40/79\n"
          ]
        },
        {
          "output_type": "stream",
          "name": "stderr",
          "text": [
            "Val   20:  65%|██████▍   | 51/79 [00:05<00:02,  9.46it/s, loss=0.366]"
          ]
        },
        {
          "output_type": "stream",
          "name": "stdout",
          "text": [
            "Val batch 50/79\n"
          ]
        },
        {
          "output_type": "stream",
          "name": "stderr",
          "text": [
            "Val   20:  77%|███████▋  | 61/79 [00:06<00:02,  8.81it/s, loss=0.368]"
          ]
        },
        {
          "output_type": "stream",
          "name": "stdout",
          "text": [
            "Val batch 60/79\n"
          ]
        },
        {
          "output_type": "stream",
          "name": "stderr",
          "text": [
            "Val   20:  89%|████████▊ | 70/79 [00:08<00:01,  5.66it/s, loss=0.366]"
          ]
        },
        {
          "output_type": "stream",
          "name": "stdout",
          "text": [
            "Val batch 70/79\n"
          ]
        },
        {
          "output_type": "stream",
          "name": "stderr",
          "text": [
            "Val   20: 100%|██████████| 79/79 [00:09<00:00,  8.57it/s, loss=0.366]\n"
          ]
        },
        {
          "output_type": "stream",
          "name": "stdout",
          "text": [
            "Epoch 20: train_loss=1.0468 train_acc=0.5162 train_f1=0.5159\n",
            "           val_loss=0.3659 val_acc=0.9240 val_f1=0.9238 roc_auc=0.9960860333333335\n",
            "Saved best_model.pth\n"
          ]
        },
        {
          "output_type": "stream",
          "name": "stderr",
          "text": [
            "Train 21:   0%|          | 0/391 [00:00<?, ?it/s]/tmp/ipython-input-2992429118.py:20: FutureWarning: `torch.cuda.amp.autocast(args...)` is deprecated. Please use `torch.amp.autocast('cuda', args...)` instead.\n",
            "  with torch.cuda.amp.autocast(enabled=(DEVICE == 'cuda')):\n",
            "Train 21: 100%|██████████| 391/391 [02:19<00:00,  2.79it/s, loss=1.02]\n",
            "Val   21:   0%|          | 0/79 [00:00<?, ?it/s]/tmp/ipython-input-647854894.py:17: FutureWarning: `torch.cuda.amp.autocast(args...)` is deprecated. Please use `torch.amp.autocast('cuda', args...)` instead.\n",
            "  with torch.cuda.amp.autocast(enabled=(DEVICE == 'cuda')):\n",
            "Val   21:   1%|▏         | 1/79 [00:00<00:33,  2.34it/s, loss=0.435]"
          ]
        },
        {
          "output_type": "stream",
          "name": "stdout",
          "text": [
            "Val batch 0/79\n"
          ]
        },
        {
          "output_type": "stream",
          "name": "stderr",
          "text": [
            "Val   21:  14%|█▍        | 11/79 [00:01<00:09,  6.90it/s, loss=0.378]"
          ]
        },
        {
          "output_type": "stream",
          "name": "stdout",
          "text": [
            "Val batch 10/79\n"
          ]
        },
        {
          "output_type": "stream",
          "name": "stderr",
          "text": [
            "Val   21:  27%|██▋       | 21/79 [00:03<00:06,  8.96it/s, loss=0.387]"
          ]
        },
        {
          "output_type": "stream",
          "name": "stdout",
          "text": [
            "Val batch 20/79\n"
          ]
        },
        {
          "output_type": "stream",
          "name": "stderr",
          "text": [
            "Val   21:  39%|███▉      | 31/79 [00:04<00:05,  9.55it/s, loss=0.39]"
          ]
        },
        {
          "output_type": "stream",
          "name": "stdout",
          "text": [
            "Val batch 30/79\n"
          ]
        },
        {
          "output_type": "stream",
          "name": "stderr",
          "text": [
            "Val   21:  52%|█████▏    | 41/79 [00:05<00:04,  9.41it/s, loss=0.388]"
          ]
        },
        {
          "output_type": "stream",
          "name": "stdout",
          "text": [
            "Val batch 40/79\n"
          ]
        },
        {
          "output_type": "stream",
          "name": "stderr",
          "text": [
            "Val   21:  65%|██████▍   | 51/79 [00:06<00:03,  9.29it/s, loss=0.384]"
          ]
        },
        {
          "output_type": "stream",
          "name": "stdout",
          "text": [
            "Val batch 50/79\n"
          ]
        },
        {
          "output_type": "stream",
          "name": "stderr",
          "text": [
            "Val   21:  77%|███████▋  | 61/79 [00:07<00:01,  9.87it/s, loss=0.385]"
          ]
        },
        {
          "output_type": "stream",
          "name": "stdout",
          "text": [
            "Val batch 60/79\n"
          ]
        },
        {
          "output_type": "stream",
          "name": "stderr",
          "text": [
            "Val   21:  90%|████████▉ | 71/79 [00:08<00:00, 10.14it/s, loss=0.382]"
          ]
        },
        {
          "output_type": "stream",
          "name": "stdout",
          "text": [
            "Val batch 70/79\n"
          ]
        },
        {
          "output_type": "stream",
          "name": "stderr",
          "text": [
            "Val   21: 100%|██████████| 79/79 [00:08<00:00,  8.89it/s, loss=0.383]\n"
          ]
        },
        {
          "output_type": "stream",
          "name": "stdout",
          "text": [
            "Epoch 21: train_loss=1.0220 train_acc=0.5043 train_f1=0.5041\n",
            "           val_loss=0.3825 val_acc=0.9237 val_f1=0.9234 roc_auc=0.9957686888888888\n"
          ]
        },
        {
          "output_type": "stream",
          "name": "stderr",
          "text": [
            "Train 22:   0%|          | 0/391 [00:00<?, ?it/s]/tmp/ipython-input-2992429118.py:20: FutureWarning: `torch.cuda.amp.autocast(args...)` is deprecated. Please use `torch.amp.autocast('cuda', args...)` instead.\n",
            "  with torch.cuda.amp.autocast(enabled=(DEVICE == 'cuda')):\n",
            "Train 22: 100%|██████████| 391/391 [02:21<00:00,  2.76it/s, loss=1.07]\n",
            "Val   22:   0%|          | 0/79 [00:00<?, ?it/s]/tmp/ipython-input-647854894.py:17: FutureWarning: `torch.cuda.amp.autocast(args...)` is deprecated. Please use `torch.amp.autocast('cuda', args...)` instead.\n",
            "  with torch.cuda.amp.autocast(enabled=(DEVICE == 'cuda')):\n",
            "Val   22:   1%|▏         | 1/79 [00:00<00:16,  4.67it/s, loss=0.467]"
          ]
        },
        {
          "output_type": "stream",
          "name": "stdout",
          "text": [
            "Val batch 0/79\n"
          ]
        },
        {
          "output_type": "stream",
          "name": "stderr",
          "text": [
            "Val   22:  14%|█▍        | 11/79 [00:01<00:07,  9.04it/s, loss=0.412]"
          ]
        },
        {
          "output_type": "stream",
          "name": "stdout",
          "text": [
            "Val batch 10/79\n"
          ]
        },
        {
          "output_type": "stream",
          "name": "stderr",
          "text": [
            "Val   22:  27%|██▋       | 21/79 [00:02<00:06,  9.48it/s, loss=0.42] "
          ]
        },
        {
          "output_type": "stream",
          "name": "stdout",
          "text": [
            "Val batch 20/79\n"
          ]
        },
        {
          "output_type": "stream",
          "name": "stderr",
          "text": [
            "Val   22:  39%|███▉      | 31/79 [00:03<00:05,  8.79it/s, loss=0.423]"
          ]
        },
        {
          "output_type": "stream",
          "name": "stdout",
          "text": [
            "Val batch 30/79\n"
          ]
        },
        {
          "output_type": "stream",
          "name": "stderr",
          "text": [
            "Val   22:  51%|█████     | 40/79 [00:04<00:05,  7.65it/s, loss=0.423]"
          ]
        },
        {
          "output_type": "stream",
          "name": "stdout",
          "text": [
            "Val batch 40/79\n"
          ]
        },
        {
          "output_type": "stream",
          "name": "stderr",
          "text": [
            "Val   22:  66%|██████▌   | 52/79 [00:06<00:03,  7.01it/s, loss=0.418]"
          ]
        },
        {
          "output_type": "stream",
          "name": "stdout",
          "text": [
            "Val batch 50/79\n"
          ]
        },
        {
          "output_type": "stream",
          "name": "stderr",
          "text": [
            "Val   22:  77%|███████▋  | 61/79 [00:07<00:02,  8.19it/s, loss=0.419]"
          ]
        },
        {
          "output_type": "stream",
          "name": "stdout",
          "text": [
            "Val batch 60/79\n"
          ]
        },
        {
          "output_type": "stream",
          "name": "stderr",
          "text": [
            "Val   22:  90%|████████▉ | 71/79 [00:08<00:00,  9.09it/s, loss=0.416]"
          ]
        },
        {
          "output_type": "stream",
          "name": "stdout",
          "text": [
            "Val batch 70/79\n"
          ]
        },
        {
          "output_type": "stream",
          "name": "stderr",
          "text": [
            "Val   22: 100%|██████████| 79/79 [00:09<00:00,  8.43it/s, loss=0.416]\n"
          ]
        },
        {
          "output_type": "stream",
          "name": "stdout",
          "text": [
            "Epoch 22: train_loss=1.0677 train_acc=0.5065 train_f1=0.5062\n",
            "           val_loss=0.4160 val_acc=0.9211 val_f1=0.9208 roc_auc=0.9954142333333333\n"
          ]
        },
        {
          "output_type": "stream",
          "name": "stderr",
          "text": [
            "Train 23:   0%|          | 0/391 [00:00<?, ?it/s]/tmp/ipython-input-2992429118.py:20: FutureWarning: `torch.cuda.amp.autocast(args...)` is deprecated. Please use `torch.amp.autocast('cuda', args...)` instead.\n",
            "  with torch.cuda.amp.autocast(enabled=(DEVICE == 'cuda')):\n",
            "Train 23: 100%|██████████| 391/391 [02:20<00:00,  2.78it/s, loss=1.03]\n",
            "Val   23:   0%|          | 0/79 [00:00<?, ?it/s]/tmp/ipython-input-647854894.py:17: FutureWarning: `torch.cuda.amp.autocast(args...)` is deprecated. Please use `torch.amp.autocast('cuda', args...)` instead.\n",
            "  with torch.cuda.amp.autocast(enabled=(DEVICE == 'cuda')):\n",
            "Val   23:   1%|▏         | 1/79 [00:00<00:17,  4.40it/s, loss=0.445]"
          ]
        },
        {
          "output_type": "stream",
          "name": "stdout",
          "text": [
            "Val batch 0/79\n"
          ]
        },
        {
          "output_type": "stream",
          "name": "stderr",
          "text": [
            "Val   23:  14%|█▍        | 11/79 [00:01<00:07,  9.41it/s, loss=0.391]"
          ]
        },
        {
          "output_type": "stream",
          "name": "stdout",
          "text": [
            "Val batch 10/79\n"
          ]
        },
        {
          "output_type": "stream",
          "name": "stderr",
          "text": [
            "Val   23:  28%|██▊       | 22/79 [00:02<00:05,  9.81it/s, loss=0.4]"
          ]
        },
        {
          "output_type": "stream",
          "name": "stdout",
          "text": [
            "Val batch 20/79\n"
          ]
        },
        {
          "output_type": "stream",
          "name": "stderr",
          "text": [
            "Val   23:  41%|████      | 32/79 [00:03<00:04,  9.68it/s, loss=0.403]"
          ]
        },
        {
          "output_type": "stream",
          "name": "stdout",
          "text": [
            "Val batch 30/79\n"
          ]
        },
        {
          "output_type": "stream",
          "name": "stderr",
          "text": [
            "Val   23:  53%|█████▎    | 42/79 [00:04<00:03,  9.99it/s, loss=0.401]"
          ]
        },
        {
          "output_type": "stream",
          "name": "stdout",
          "text": [
            "Val batch 40/79\n"
          ]
        },
        {
          "output_type": "stream",
          "name": "stderr",
          "text": [
            "Val   23:  66%|██████▌   | 52/79 [00:05<00:02,  9.62it/s, loss=0.397]"
          ]
        },
        {
          "output_type": "stream",
          "name": "stdout",
          "text": [
            "Val batch 50/79\n"
          ]
        },
        {
          "output_type": "stream",
          "name": "stderr",
          "text": [
            "Val   23:  76%|███████▌  | 60/79 [00:06<00:02,  9.42it/s, loss=0.399]"
          ]
        },
        {
          "output_type": "stream",
          "name": "stdout",
          "text": [
            "Val batch 60/79\n"
          ]
        },
        {
          "output_type": "stream",
          "name": "stderr",
          "text": [
            "Val   23:  91%|█████████ | 72/79 [00:07<00:00,  9.85it/s, loss=0.396]"
          ]
        },
        {
          "output_type": "stream",
          "name": "stdout",
          "text": [
            "Val batch 70/79\n"
          ]
        },
        {
          "output_type": "stream",
          "name": "stderr",
          "text": [
            "Val   23: 100%|██████████| 79/79 [00:08<00:00,  9.74it/s, loss=0.396]\n"
          ]
        },
        {
          "output_type": "stream",
          "name": "stdout",
          "text": [
            "Epoch 23: train_loss=1.0343 train_acc=0.5087 train_f1=0.5084\n",
            "           val_loss=0.3962 val_acc=0.9222 val_f1=0.9219 roc_auc=0.99564725\n"
          ]
        },
        {
          "output_type": "stream",
          "name": "stderr",
          "text": [
            "Train 24:   0%|          | 0/391 [00:00<?, ?it/s]/tmp/ipython-input-2992429118.py:20: FutureWarning: `torch.cuda.amp.autocast(args...)` is deprecated. Please use `torch.amp.autocast('cuda', args...)` instead.\n",
            "  with torch.cuda.amp.autocast(enabled=(DEVICE == 'cuda')):\n",
            "Train 24: 100%|██████████| 391/391 [02:21<00:00,  2.76it/s, loss=1.03]\n",
            "Val   24:   0%|          | 0/79 [00:00<?, ?it/s]/tmp/ipython-input-647854894.py:17: FutureWarning: `torch.cuda.amp.autocast(args...)` is deprecated. Please use `torch.amp.autocast('cuda', args...)` instead.\n",
            "  with torch.cuda.amp.autocast(enabled=(DEVICE == 'cuda')):\n",
            "Val   24:   1%|▏         | 1/79 [00:00<00:18,  4.30it/s, loss=0.463]"
          ]
        },
        {
          "output_type": "stream",
          "name": "stdout",
          "text": [
            "Val batch 0/79\n"
          ]
        },
        {
          "output_type": "stream",
          "name": "stderr",
          "text": [
            "Val   24:  14%|█▍        | 11/79 [00:01<00:11,  5.78it/s, loss=0.407]"
          ]
        },
        {
          "output_type": "stream",
          "name": "stdout",
          "text": [
            "Val batch 10/79\n"
          ]
        },
        {
          "output_type": "stream",
          "name": "stderr",
          "text": [
            "Val   24:  27%|██▋       | 21/79 [00:03<00:08,  6.54it/s, loss=0.415]"
          ]
        },
        {
          "output_type": "stream",
          "name": "stdout",
          "text": [
            "Val batch 20/79\n"
          ]
        },
        {
          "output_type": "stream",
          "name": "stderr",
          "text": [
            "Val   24:  39%|███▉      | 31/79 [00:04<00:04,  9.65it/s, loss=0.419]"
          ]
        },
        {
          "output_type": "stream",
          "name": "stdout",
          "text": [
            "Val batch 30/79\n"
          ]
        },
        {
          "output_type": "stream",
          "name": "stderr",
          "text": [
            "Val   24:  52%|█████▏    | 41/79 [00:05<00:03,  9.90it/s, loss=0.416]"
          ]
        },
        {
          "output_type": "stream",
          "name": "stdout",
          "text": [
            "Val batch 40/79\n"
          ]
        },
        {
          "output_type": "stream",
          "name": "stderr",
          "text": [
            "Val   24:  66%|██████▌   | 52/79 [00:06<00:02,  9.22it/s, loss=0.413]"
          ]
        },
        {
          "output_type": "stream",
          "name": "stdout",
          "text": [
            "Val batch 50/79\n"
          ]
        },
        {
          "output_type": "stream",
          "name": "stderr",
          "text": [
            "Val   24:  77%|███████▋  | 61/79 [00:07<00:01,  9.46it/s, loss=0.414]"
          ]
        },
        {
          "output_type": "stream",
          "name": "stdout",
          "text": [
            "Val batch 60/79\n"
          ]
        },
        {
          "output_type": "stream",
          "name": "stderr",
          "text": [
            "Val   24:  90%|████████▉ | 71/79 [00:08<00:00,  8.80it/s, loss=0.411]"
          ]
        },
        {
          "output_type": "stream",
          "name": "stdout",
          "text": [
            "Val batch 70/79\n"
          ]
        },
        {
          "output_type": "stream",
          "name": "stderr",
          "text": [
            "Val   24: 100%|██████████| 79/79 [00:09<00:00,  8.38it/s, loss=0.411]\n"
          ]
        },
        {
          "output_type": "stream",
          "name": "stdout",
          "text": [
            "Epoch 24: train_loss=1.0260 train_acc=0.4949 train_f1=0.4947\n",
            "           val_loss=0.4107 val_acc=0.9213 val_f1=0.9210 roc_auc=0.9955410666666665\n"
          ]
        },
        {
          "output_type": "stream",
          "name": "stderr",
          "text": [
            "Train 25:   0%|          | 0/391 [00:00<?, ?it/s]/tmp/ipython-input-2992429118.py:20: FutureWarning: `torch.cuda.amp.autocast(args...)` is deprecated. Please use `torch.amp.autocast('cuda', args...)` instead.\n",
            "  with torch.cuda.amp.autocast(enabled=(DEVICE == 'cuda')):\n",
            "Train 25: 100%|██████████| 391/391 [02:21<00:00,  2.76it/s, loss=1.06]\n",
            "Val   25:   0%|          | 0/79 [00:00<?, ?it/s]/tmp/ipython-input-647854894.py:17: FutureWarning: `torch.cuda.amp.autocast(args...)` is deprecated. Please use `torch.amp.autocast('cuda', args...)` instead.\n",
            "  with torch.cuda.amp.autocast(enabled=(DEVICE == 'cuda')):\n",
            "Val   25:   4%|▍         | 3/79 [00:00<00:08,  8.53it/s, loss=0.47]"
          ]
        },
        {
          "output_type": "stream",
          "name": "stdout",
          "text": [
            "Val batch 0/79\n"
          ]
        },
        {
          "output_type": "stream",
          "name": "stderr",
          "text": [
            "Val   25:  14%|█▍        | 11/79 [00:01<00:08,  8.40it/s, loss=0.43]"
          ]
        },
        {
          "output_type": "stream",
          "name": "stdout",
          "text": [
            "Val batch 10/79\n"
          ]
        },
        {
          "output_type": "stream",
          "name": "stderr",
          "text": [
            "Val   25:  27%|██▋       | 21/79 [00:02<00:05,  9.82it/s, loss=0.438]"
          ]
        },
        {
          "output_type": "stream",
          "name": "stdout",
          "text": [
            "Val batch 20/79\n"
          ]
        },
        {
          "output_type": "stream",
          "name": "stderr",
          "text": [
            "Val   25:  39%|███▉      | 31/79 [00:03<00:05,  9.31it/s, loss=0.442]"
          ]
        },
        {
          "output_type": "stream",
          "name": "stdout",
          "text": [
            "Val batch 30/79\n"
          ]
        },
        {
          "output_type": "stream",
          "name": "stderr",
          "text": [
            "Val   25:  52%|█████▏    | 41/79 [00:04<00:04,  8.66it/s, loss=0.44] "
          ]
        },
        {
          "output_type": "stream",
          "name": "stdout",
          "text": [
            "Val batch 40/79\n"
          ]
        },
        {
          "output_type": "stream",
          "name": "stderr",
          "text": [
            "Val   25:  65%|██████▍   | 51/79 [00:06<00:04,  6.17it/s, loss=0.436]"
          ]
        },
        {
          "output_type": "stream",
          "name": "stdout",
          "text": [
            "Val batch 50/79\n"
          ]
        },
        {
          "output_type": "stream",
          "name": "stderr",
          "text": [
            "Val   25:  77%|███████▋  | 61/79 [00:07<00:02,  7.11it/s, loss=0.437]"
          ]
        },
        {
          "output_type": "stream",
          "name": "stdout",
          "text": [
            "Val batch 60/79\n"
          ]
        },
        {
          "output_type": "stream",
          "name": "stderr",
          "text": [
            "Val   25:  90%|████████▉ | 71/79 [00:08<00:00,  9.63it/s, loss=0.434]"
          ]
        },
        {
          "output_type": "stream",
          "name": "stdout",
          "text": [
            "Val batch 70/79\n"
          ]
        },
        {
          "output_type": "stream",
          "name": "stderr",
          "text": [
            "Val   25: 100%|██████████| 79/79 [00:09<00:00,  8.45it/s, loss=0.434]"
          ]
        },
        {
          "output_type": "stream",
          "name": "stdout",
          "text": [
            "Epoch 25: train_loss=1.0586 train_acc=0.5035 train_f1=0.5032\n",
            "           val_loss=0.4338 val_acc=0.9169 val_f1=0.9166 roc_auc=0.9949924222222222\n",
            "Training finished in 62.9 minutes\n"
          ]
        },
        {
          "output_type": "stream",
          "name": "stderr",
          "text": [
            "\n"
          ]
        }
      ]
    },
    {
      "cell_type": "code",
      "source": [
        "try:\n",
        "    if 'val_preds' in locals() and 'val_targets' in locals():\n",
        "        cm = confusion_matrix(val_targets, val_preds)\n",
        "        plt.figure(figsize=(8,8))\n",
        "        plt.imshow(cm, interpolation='nearest')\n",
        "        plt.title('Confusion matrix')\n",
        "        plt.colorbar()\n",
        "        plt.xlabel('Predicted')\n",
        "        plt.ylabel('True')\n",
        "        plt.show()\n",
        "except Exception:\n",
        "    pass"
      ],
      "metadata": {
        "id": "esjDoFKPi3fU",
        "colab": {
          "base_uri": "https://localhost:8080/",
          "height": 661
        },
        "outputId": "4f8698da-b315-475c-c731-7ff2b82bba53"
      },
      "execution_count": null,
      "outputs": [
        {
          "output_type": "display_data",
          "data": {
            "text/plain": [
              "<Figure size 800x800 with 2 Axes>"
            ],
            "image/png": "[encoded data removed]"
          },
          "metadata": {}
        }
      ]
    }
  ]
}